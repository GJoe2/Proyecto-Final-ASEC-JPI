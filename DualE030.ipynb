{
 "cells": [
  {
   "cell_type": "markdown",
   "source": [
    "# Proyecto final ASEC JPI v1.0"
   ],
   "metadata": {
    "id": "rn41r99A-xZH"
   }
  },
  {
   "cell_type": "markdown",
   "source": [
    "INSTALACIÓN DE LIBRERÍAS"
   ],
   "metadata": {
    "id": "6SxXtQ7V_XzW"
   }
  },
  {
   "cell_type": "markdown",
   "source": [
    "Establecemos un Sistema de Unidades"
   ],
   "metadata": {
    "id": "9FV7XAAcCFgF"
   }
  },
  {
   "cell_type": "code",
   "execution_count": 44,
   "source": [
    "import numpy as np\r\n",
    "import openseespy.opensees as ops\r\n",
    "import pandas as pd\r\n",
    "from openseespy.opensees import *\r\n",
    "import openseespy.postprocessing.ops_vis as opsv\r\n",
    "import openseespy.postprocessing.Get_Rendering as opsplt\r\n",
    "import matplotlib.pyplot as plt"
   ],
   "outputs": [],
   "metadata": {
    "executionInfo": {
     "elapsed": 73,
     "status": "ok",
     "timestamp": 1623969621093,
     "user": {
      "displayName": "JPI INGENIERÍA E INNOVACIÓN",
      "photoUrl": "https://lh3.googleusercontent.com/a-/AOh14Gg2DQY3KLdtmJmmHLuKfVOSmw6qx8C6hq3657Ay=s64",
      "userId": "00771040806782386087"
     },
     "user_tz": 300
    },
    "id": "ZYzFC-TPCDci"
   }
  },
  {
   "cell_type": "markdown",
   "source": [
    "SISTEMA DE UNIDADES"
   ],
   "metadata": {}
  },
  {
   "cell_type": "code",
   "execution_count": 45,
   "source": [
    "# Unidades Base\r\n",
    "m = 1\r\n",
    "kg = 1\r\n",
    "s = 1\r\n",
    "# Otras Unidades\r\n",
    "cm = 0.01*m\r\n",
    "N = kg*m/s**2\r\n",
    "kN = 1000*N\r\n",
    "kgf = 9.81*N\r\n",
    "Pa = N/m**2\r\n",
    "MPa = 10**6*Pa\r\n",
    "inch = 2.54*cm\r\n",
    "ft = 12*inch\r\n",
    "ksi = 6894757.2932*Pa\r\n",
    "kip = ksi*inch**2\r\n",
    "psi = 6894.76*Pa\r\n",
    "# Constantes Físicas\r\n",
    "g = 9.81*m/s**2"
   ],
   "outputs": [],
   "metadata": {}
  },
  {
   "cell_type": "markdown",
   "source": [
    "PROPIEDADES DE MATERIALES Y SECCIONES"
   ],
   "metadata": {
    "id": "-uHzaCZ7_bEn"
   }
  },
  {
   "cell_type": "code",
   "execution_count": 46,
   "source": [
    "fc = 210*kgf/cm**2\r\n",
    "E = 15100*(fc/(kgf/cm**2))**0.5*kgf/cm**2\r\n",
    "G = 0.5*E/(1+0.2)\r\n",
    "# Viga\r\n",
    "b,h = 25*cm, 50*cm\r\n",
    "Av = b*h\r\n",
    "Izv = b*h**3/12\r\n",
    "Iyv = b**3*h/12\r\n",
    "aa, bb = max(b,h),min(b,h)\r\n",
    "β= 1/3-0.21*bb/aa*(1-(bb/aa)**4/12)\r\n",
    "Jxxv = β*bb**3*aa\r\n",
    "# Columna\r\n",
    "a = 60*cm\r\n",
    "Ac = a**2\r\n",
    "Izc = a**4/12\r\n",
    "Iyc = a**4/12\r\n",
    "β= 1/3-0.21*1.*(1-(1.)**4/12)\r\n",
    "Jxxc = β*a**4\r\n",
    "# Densidad del concreto\r\n",
    "ρ = 2400*kg/m**3"
   ],
   "outputs": [],
   "metadata": {}
  },
  {
   "cell_type": "markdown",
   "source": [
    "CREACIÓN DE MODELO"
   ],
   "metadata": {
    "id": "Jw7UgPiw-qhG"
   }
  },
  {
   "cell_type": "code",
   "execution_count": 47,
   "source": [
    "def GeoModel(dx, dy, h, nx, ny, nz, Lmx, Lmy):\r\n",
    "    from numpy import zeros\r\n",
    "    Lx, Ly, Lz = dx*nx, dy*ny, h*nz\r\n",
    "    NN = (nx+1)*(ny+1)*(nz+1)+8*(nz+1)\r\n",
    "    Nodes = zeros((NN,5))\r\n",
    "    #Calculando fracciones de masas en los nodos\r\n",
    "    mnodes = zeros(5)\r\n",
    "    if Lmx<=dx/2 and Lmy<=dy/2:\r\n",
    "        if dx > dy and Lmx<=dx-dy:\r\n",
    "            mnodes[0] = (Lmx**2+Lmy**2)/(8*dx*dy) #nudo esquina\r\n",
    "            mnodes[1] = 0.25 - (dy-Lmx)**2/(8*dx*dy) #nudo extremo de muro en x\r\n",
    "            mnodes[2] = 0.50 - Lmx/(4*dx) #nudo lateral en x\r\n",
    "            mnodes[3] = ((dy+Lmy)**2-3*Lmy**2)/(8*dx*dy) #nudo extremo de muro en y\r\n",
    "            mnodes[4] = 0.50 - (2*dy-Lmy)*Lmy/(8*dx*dy) #nudo lateral en y\r\n",
    "        elif dx > dy and Lmx>dx-dy:\r\n",
    "            mnodes[0] = (Lmx**2+Lmy**2)/(8*dx*dy) #nudo esquina\r\n",
    "            mnodes[1] = 0.50 - dy/(4*dx) - (dx-Lmx)**2/(8*dx*dy) #nudo extremo de muro en x\r\n",
    "            mnodes[2] = 0.25 + dy/(8*dx) - (dx-Lmx)**2/(8*dx*dy) #nudo lateral en x\r\n",
    "            mnodes[3] = ((dy+Lmy)**2-3*Lmy**2)/(8*dx*dy) #nudo extremo de muro en y\r\n",
    "            mnodes[4] = 0.50 - (2*dy-Lmy)*Lmy/(8*dx*dy) #nudo lateral en y\r\n",
    "\r\n",
    "        elif dx < dy and Lmy<=dy-dx:\r\n",
    "            mnodes[0] = (Lmx**2+Lmy**2)/(8*dx*dy) #nudo esquina\r\n",
    "            mnodes[1] = ((dx+Lmx)**2-3*Lmx**2)/(8*dx*dy) #nudo extremo de muro en x\r\n",
    "            mnodes[2] = 0.50 - (2*dx-Lmx)*Lmx/(8*dx*dy) #nudo lateral en x\r\n",
    "            mnodes[3] = 0.25 - (dx-Lmy)**2/(8*dx*dy) #nudo extremo de muro en y\r\n",
    "            mnodes[4] = 0.50 - Lmy/(4*dy) #nudo lateral en y\r\n",
    "        elif dx < dy and Lmy>dy-dx:\r\n",
    "            mnodes[0] = (Lmx**2+Lmy**2)/(8*dx*dy) #nudo esquina\r\n",
    "            mnodes[1] = ((dx+Lmx)**2-3*Lmx**2)/(8*dx*dy) #nudo extremo de muro en x\r\n",
    "            mnodes[2] = 0.50 - (2*dx-Lmx)*Lmx/(8*dx*dy) #nudo lateral en x\r\n",
    "            mnodes[3] = 0.50 - dx/(4*dy) - (dy-Lmy)**2/(8*dx*dy) #nudo extremo de muro en y\r\n",
    "            mnodes[4] = 0.25 + dx/(8*dy) - (dy-Lmy)**2/(8*dx*dy) #nudo lateral en y\r\n",
    "            \r\n",
    "        elif dx == dy:\r\n",
    "            mnodes[0] = (Lmx**2+Lmy**2)/(8*dx*dy) #nudo esquina\r\n",
    "            mnodes[1] = 0.25 - (Lmx**2+dy**2-(dx+dy-Lmx)*Lmx)/(8*dx*dy) #nudo extremo de muro en x\r\n",
    "            mnodes[2] = 0.50 - (dx+dy-Lmx)*Lmx/(8*dx*dy) #nudo lateral en x\r\n",
    "            mnodes[3] = 0.25 - (Lmy**2+dx**2-(dx+dy-Lmy)*Lmy)/(8*dx*dy) #nudo extremo de muro en y\r\n",
    "            mnodes[4] = 0.50 - (dx+dy-Lmy)*Lmy/(8*dx*dy) #nudo lateral en y\r\n",
    "\r\n",
    "    elif Lmx>dx/2 and Lmy>dy/2:\r\n",
    "        print('Lm es incompatible, Lm es mayor que la mitad de la longitud del vano (dx o dy)')\r\n",
    "        exit()\r\n",
    "\r\n",
    "    # Creando los nodos y asignando coordenadas\r\n",
    "    c = 0\r\n",
    "    for i in range(nz+1):\r\n",
    "        for j in range(ny+1+2):\r\n",
    "            for k in range(nx+1+2):\r\n",
    "                #Esquinas\r\n",
    "                if k == 0 and j == 0:\r\n",
    "                    Nodes[c] = [c,0,0,i*h,mnodes[0]]\r\n",
    "                    c = c + 1\r\n",
    "                elif k == 0 and j == ny+2:\r\n",
    "                    Nodes[c] = [c,0,ny*dy,i*h,mnodes[0]]\r\n",
    "                    c = c + 1\r\n",
    "                elif k == nx+2 and j == 0:\r\n",
    "                    Nodes[c] = [c,nx*dx,0,i*h,mnodes[0]]\r\n",
    "                    c = c + 1\r\n",
    "                elif k == nx+2 and j == ny+2:\r\n",
    "                    Nodes[c] = [c,nx*dx,ny*dy,i*h,mnodes[0]]\r\n",
    "                    c = c + 1\r\n",
    "                #Lm en x\r\n",
    "                elif k == 1 and j == 0:\r\n",
    "                    Nodes[c] = [c,Lmx,0,i*h,mnodes[1]]\r\n",
    "                    c = c + 1\r\n",
    "                elif k == 1 and j == ny+2:\r\n",
    "                    Nodes[c] = [c,Lmx,ny*dy,i*h,mnodes[1]]\r\n",
    "                    c = c + 1\r\n",
    "                elif k == nx+1 and j == 0:\r\n",
    "                    Nodes[c] = [c,nx*dx-Lmx,0,i*h,mnodes[1]]\r\n",
    "                    c = c + 1\r\n",
    "                elif k == nx+1 and j == ny+2:\r\n",
    "                    Nodes[c] = [c,nx*dx-Lmx,ny*dy,i*h,mnodes[1]]\r\n",
    "                    c = c + 1\r\n",
    "                #Lm en y\r\n",
    "                elif k == 0 and j == 1:\r\n",
    "                    Nodes[c] = [c,0,Lmy,i*h,mnodes[3]]\r\n",
    "                    c = c + 1\r\n",
    "                elif k == nx+2 and j == 1:\r\n",
    "                    Nodes[c] = [c,nx*dx,Lmy,i*h,mnodes[3]]\r\n",
    "                    c = c + 1\r\n",
    "                elif k == 0 and j == ny+1:\r\n",
    "                    Nodes[c] = [c,0,ny*dy-Lmy,i*h,mnodes[3]]\r\n",
    "                    c = c + 1\r\n",
    "                elif k == nx+2 and j == ny+1:\r\n",
    "                    Nodes[c] = [c,nx*dx,ny*dy-Lmy,i*h,mnodes[3]]\r\n",
    "                    c = c + 1\r\n",
    "                #Lm en x que no son puntos\r\n",
    "                elif k == 1 and j != 0 and j != ny+2:\r\n",
    "                    c = c\r\n",
    "                elif k == nx+1 and j != 0 and j != ny+2:\r\n",
    "                    c = c\r\n",
    "                #Lm en y que no son puntos\r\n",
    "                elif j == 1 and k != 0 and k != nx+2:\r\n",
    "                    c = c\r\n",
    "                elif j == ny+1 and k != 0 and k != nx+2:\r\n",
    "                    c = c\r\n",
    "                #Medios en zonas de esquina\r\n",
    "                elif k == 0 and (j == 2 or j == ny):\r\n",
    "                    Nodes[c] = [c,0,(j-1)*dy,i*h,mnodes[4]]\r\n",
    "                    c = c + 1\r\n",
    "                elif k == nx+2 and (j == 2 or j == ny):\r\n",
    "                    Nodes[c] = [c,nx*dx,(j-1)*dy,i*h,mnodes[4]]\r\n",
    "                    c = c + 1\r\n",
    "                elif j == 0 and (k == 2 or k == nx):\r\n",
    "                    Nodes[c] = [c,(k-1)*dx,0,i*h,mnodes[2]]\r\n",
    "                    c = c + 1\r\n",
    "                elif j == ny+2 and (k == 2 or k == nx):\r\n",
    "                    Nodes[c] = [c,(k-1)*dx,ny*dy,i*h,mnodes[2]]\r\n",
    "                    c = c + 1\r\n",
    "                #Medios centrales\r\n",
    "                elif k == 0 and j != 0 and j != 1 and j != 2 and j != ny and j != ny+1 and j != ny+2:\r\n",
    "                    Nodes[c] = [c,0,(j-1)*dy,i*h,0.50]\r\n",
    "                    c = c + 1\r\n",
    "                elif k == nx+2 and j != 0 and j != 1 and j != 2 and j != ny and j != ny+1 and j != ny+2:\r\n",
    "                    Nodes[c] = [c,nx*dx,(j-1)*dy,i*h,0.50]\r\n",
    "                    c = c + 1\r\n",
    "                elif j == 0 and k != 0 and k != 1 and k != 2 and k != nx and k != nx+1 and k != nx+2:\r\n",
    "                    Nodes[c] = [c,(k-1)*dx,0,i*h,0.50]\r\n",
    "                    c = c + 1\r\n",
    "                elif j == ny+2 and k != 0 and k != 1 and k != 2 and k != nx and k != nx+1 and k != nx+2:\r\n",
    "                    Nodes[c] = [c,(k-1)*dx,ny*dy,i*h,0.50]\r\n",
    "                    c = c + 1\r\n",
    "                #Centros\r\n",
    "                else:\r\n",
    "                    Nodes[c] = [c,(k-1)*dx,(j-1)*dy,i*h,1.00]\r\n",
    "                    c = c+1\r\n",
    "    Nodes[:((nx+1)*(ny+1)+8),4]=0\r\n",
    "\r\n",
    "\r\n",
    "    NE = (nx*(ny+1)+ny*(nx+1)+(nx+1)*(ny+1)-4)*nz+8*nz\r\n",
    "    Elems = zeros((NE,6))\r\n",
    "    # Creando las conexiones de los elementos verticales\r\n",
    "    c = 0\r\n",
    "    nn = (nx+1)*(ny+1)+8\r\n",
    "    #Muros\r\n",
    "    for i in range(nz):\r\n",
    "        Elems[c] = [c,0+nn*i,1+nn*i,1+nn*(i+1),nn*(i+1),3] #3 muro en x #Asignar los nodos de forma antihoraria\r\n",
    "        c = c + 1\r\n",
    "        Elems[c] = [c,nx+1+nn*i,nx+2+nn*i,nx+2+nn*(i+1),nx+1+nn*(i+1),3]\r\n",
    "        c = c + 1\r\n",
    "        Elems[c] = [c,0+nn*i,nx+3+nn*i,nx+3+nn*(i+1),nn*(i+1),4] #4 muro en y\r\n",
    "        c = c + 1\r\n",
    "        Elems[c] = [c,nx+2+nn*i,nx+4+nn*i,nx+4+nn*(i+1),nx+2+nn*(i+1),4]\r\n",
    "        c = c + 1\r\n",
    "\r\n",
    "        Elems[c] = [c,nx+5+(nx+1)*(ny-1)+nn*i,nx+5+(nx+1)*(ny-1)+2+nn*i,nx+5+(nx+1)*(ny-1)+2+nn*(i+1),nx+5+(nx+1)*(ny-1)+nn*(i+1),4]\r\n",
    "        c = c + 1\r\n",
    "        Elems[c] = [c,nx+5+(nx+1)*(ny-1)+1+nn*i,nx+5+(nx+1)*(ny-1)+1+nx+3+nn*i,nx+5+(nx+1)*(ny-1)+1+nx+3+nn*(i+1),nx+5+(nx+1)*(ny-1)+1+nn*(i+1),4]\r\n",
    "        c = c + 1\r\n",
    "        Elems[c] = [c,nn-1-(nx+2)+nn*i,nn-(nx+2)+nn*i,nn-(nx+2)+nn*(i+1),nn-1-(nx+2)+nn*(i+1),3]\r\n",
    "        c = c + 1\r\n",
    "        Elems[c] = [c,nn-2+nn*i,nn-1+nn*i,nn-1+nn*(i+1),nn-2+nn*(i+1),3]\r\n",
    "        c = c + 1\r\n",
    "\r\n",
    "\r\n",
    "    #Columnas\r\n",
    "    for i in range(nz):\r\n",
    "        for j in range(ny+1):\r\n",
    "            for k in range(nx+1):\r\n",
    "                if j == 0 and k != 0 and k != nx:\r\n",
    "                    Elems[c] = [c,k+1+nn*i,k+1+nn*(i+1),0,0,1]\r\n",
    "                    c = c + 1\r\n",
    "                elif j != 0 and j != ny:\r\n",
    "                    Elems[c] = [c,k+nx+5+(nx+1)*(j-1)+nn*i,k+nx+5+(nx+1)*(j-1)+nn*(i+1),0,0,1]\r\n",
    "                    c = c + 1\r\n",
    "                elif j == ny and k != 0 and k != nx:\r\n",
    "                    Elems[c] = [c,k+nx+5+(nx+1)*(j-1)+3+nn*i,(k+nx+5+(nx+1)*(j-1)+3)+nn*(i+1),0,0,1]\r\n",
    "                    c = c + 1\r\n",
    "    # Creando las conexiones de los elementos horizontales en x\r\n",
    "    for i in range(nz):\r\n",
    "        for j in range(ny+1):\r\n",
    "            for k in range(nx):\r\n",
    "                if j == 0:\r\n",
    "                    Elems[c] = [c,k+1+nn*(i+1),k+2+nn*(i+1),0,0,2]\r\n",
    "                    c = c + 1\r\n",
    "                elif j != 0 and j != ny:\r\n",
    "                    Elems[c] = [c,k+nx+5+(nx+1)*(j-1)+nn*(i+1),k+nx+5+1+(nx+1)*(j-1)+nn*(i+1),0,0,2]\r\n",
    "                    c = c + 1\r\n",
    "                elif j == ny:\r\n",
    "                    Elems[c] = [c,k+nx+5+(nx+1)*(j-1)+3+nn*(i+1),k+nx+5+(nx+1)*(j-1)+4+nn*(i+1),0,0,2]\r\n",
    "                    c = c + 1\r\n",
    "\r\n",
    "    # Creando las conexiones de los elementos horizontales en y\r\n",
    "    for i in range(nz):\r\n",
    "        for j in range(nx+1):\r\n",
    "            for k in range(ny):\r\n",
    "                if j == 0 and k==0:\r\n",
    "                    Elems[c] = [c,nx+3+nn*(i+1),nx+5+nn*(i+1),0,0,2]\r\n",
    "                    c = c + 1\r\n",
    "                elif j == 0 and k!=0:\r\n",
    "                    Elems[c] = [c,nx+5+(nx+1)*(k-1)+nn*(i+1),nx+5+(nx+1)*k+nn*(i+1),0,0,2]\r\n",
    "                    c = c + 1\r\n",
    "                elif j != 0 and j != nx and k==0:\r\n",
    "                    Elems[c] = [c,j+1+nn*(i+1),j+1+nx+4+nn*(i+1),0,0,2]\r\n",
    "                    c = c + 1\r\n",
    "                elif j != 0 and j != nx and k !=0 and k != ny-1:\r\n",
    "                    Elems[c] = [c,j+nx+5+(nx+1)*(k-1)+nn*(i+1),j+nx+5+(nx+1)*k+nn*(i+1),0,0,2]\r\n",
    "                    c = c + 1\r\n",
    "                elif j != 0 and j != nx and k == ny-1:\r\n",
    "                    Elems[c] = [c,j+nx+5+(nx+1)*(k-1)+nn*(i+1),j+nx+5+(nx+1)*k+3+nn*(i+1),0,0,2]\r\n",
    "                    c = c + 1\r\n",
    "                elif j == nx and k==0:\r\n",
    "                    Elems[c] = [c,nx+4+nn*(i+1),nx+4+(nx+1)+nn*(i+1),0,0,2]\r\n",
    "                    c = c + 1\r\n",
    "                elif j == nx and k != 0 and k != ny-1:\r\n",
    "                    Elems[c] = [c,nx+4+(nx+1)+(nx+1)*(k-1)+nn*(i+1),nx+4+(nx+1)+(nx+1)*k+nn*(i+1),0,0,2]\r\n",
    "                    c = c + 1\r\n",
    "                elif j == nx and k == ny-1:\r\n",
    "                    Elems[c] = [c,nx+4+(nx+1)+(nx+1)*(k-1)+nn*(i+1),nx+4+(nx+1)+(nx+1)*(k-1)+2+nn*(i+1),0,0,2]\r\n",
    "                    c = c + 1\r\n",
    "\r\n",
    "    # Creando centro de diafragmas\r\n",
    "    Diap = zeros((nz,4))\r\n",
    "    for i in range(nz):\r\n",
    "        Diap[i] = [i+1000,Lx/2.0,Ly/2.0,h*(i+1)]\r\n",
    "    #\r\n",
    "    return Nodes, Elems, Diap\r\n"
   ],
   "outputs": [],
   "metadata": {}
  },
  {
   "cell_type": "code",
   "execution_count": 48,
   "source": [
    "ops.wipe()\r\n",
    "ops.model('basic', '-ndm', 3, '-ndf', 6)"
   ],
   "outputs": [],
   "metadata": {
    "executionInfo": {
     "elapsed": 63,
     "status": "aborted",
     "timestamp": 1623969621094,
     "user": {
      "displayName": "JPI INGENIERÍA E INNOVACIÓN",
      "photoUrl": "https://lh3.googleusercontent.com/a-/AOh14Gg2DQY3KLdtmJmmHLuKfVOSmw6qx8C6hq3657Ay=s64",
      "userId": "00771040806782386087"
     },
     "user_tz": 300
    },
    "id": "S_uVJ1rOuLkv"
   }
  },
  {
   "cell_type": "markdown",
   "source": [
    "# Generamos la malla"
   ],
   "metadata": {}
  },
  {
   "cell_type": "code",
   "execution_count": 49,
   "source": [
    "RigidDiaphragm = 'ON'\r\n",
    "dx, dy, dz = 5*m, 5*m, 3*m\r\n",
    "nx, ny, nz = 4, 4, 10"
   ],
   "outputs": [],
   "metadata": {
    "executionInfo": {
     "elapsed": 64,
     "status": "aborted",
     "timestamp": 1623969621095,
     "user": {
      "displayName": "JPI INGENIERÍA E INNOVACIÓN",
      "photoUrl": "https://lh3.googleusercontent.com/a-/AOh14Gg2DQY3KLdtmJmmHLuKfVOSmw6qx8C6hq3657Ay=s64",
      "userId": "00771040806782386087"
     },
     "user_tz": 300
    },
    "id": "cnzmsTsSuyDo"
   }
  },
  {
   "cell_type": "markdown",
   "source": [
    "Definimos la propiedad de los materiales"
   ],
   "metadata": {
    "id": "TAMGoJlV_3t1"
   }
  },
  {
   "cell_type": "code",
   "execution_count": 50,
   "source": [
    "#Propiedades de los muros\r\n",
    "#Muros\r\n",
    "Lmx, Lmy = 1*m, 1*m\r\n",
    "t = 0.25*m\r\n",
    "\r\n",
    "ops.uniaxialMaterial('Elastic', 1, E) #Concreto Axial\r\n",
    "#ops.nDMaterial('ElasticIsotropic', int(1), E, 0.2) #Concreto Axial\r\n",
    "ops.uniaxialMaterial('Elastic', 2, 2*10**6*kgf/cm**2) #Acero\r\n",
    "ops.uniaxialMaterial('Elastic', 3, G) #Concreto Cortante\r\n",
    "\r\n",
    "\r\n",
    "#Muros en x\r\n",
    "a = 20*cm\r\n",
    "mufx = int(round(Lmx/a))\r\n",
    "ttx = np.zeros(mufx)\r\n",
    "ttx[:] = t\r\n",
    "wwx = np.zeros(mufx)\r\n",
    "wwx[:] = Lmx/(mufx)\r\n",
    "ρρx = np.zeros(mufx)\r\n",
    "ρρx[:] = 0 #Cuantía vertical en muros\r\n",
    "concx = np.zeros(mufx)\r\n",
    "concx[:] = int(1)\r\n",
    "acerox = np.zeros(mufx)\r\n",
    "acerox[:] = int(2)\r\n",
    "\r\n",
    "#Muros en y\r\n",
    "a = 20*cm\r\n",
    "mufy = int(round(Lmy/a))\r\n",
    "tty = np.zeros(mufy)\r\n",
    "tty[:] = t\r\n",
    "wwy = np.zeros(mufy)\r\n",
    "wwy[:] = Lmy/(mufy)\r\n",
    "ρρy = np.zeros(mufy)\r\n",
    "ρρy[:] = 0 #Cuantía vertical en muros\r\n",
    "concy = np.zeros(mufy)\r\n",
    "concy[:] = int(1)\r\n",
    "aceroy = np.zeros(mufy)\r\n",
    "aceroy[:] = int(2)"
   ],
   "outputs": [],
   "metadata": {
    "executionInfo": {
     "elapsed": 65,
     "status": "aborted",
     "timestamp": 1623969621097,
     "user": {
      "displayName": "JPI INGENIERÍA E INNOVACIÓN",
      "photoUrl": "https://lh3.googleusercontent.com/a-/AOh14Gg2DQY3KLdtmJmmHLuKfVOSmw6qx8C6hq3657Ay=s64",
      "userId": "00771040806782386087"
     },
     "user_tz": 300
    },
    "id": "pa_d-s6YuyYT"
   }
  },
  {
   "cell_type": "markdown",
   "source": [
    "# Nodos del Modelo"
   ],
   "metadata": {}
  },
  {
   "cell_type": "code",
   "execution_count": 51,
   "source": [
    "Nodes, Elems, Diap = GeoModel(dx,dy,dz,nx,ny,nz,Lmx,Lmy)\r\n",
    "#print(Elems[:8,:])\r\n",
    "#text= np.savetxt('nodos.txt',Nodes)\r\n",
    "#CREAMOS NODOS DEL MODELO\r\n",
    "# Creamos los nodos\r\n",
    "for Ni in Nodes:\r\n",
    "  ops.node(int(Ni[0]), *Ni[1:4])"
   ],
   "outputs": [],
   "metadata": {}
  },
  {
   "cell_type": "markdown",
   "source": [
    "# Definimos diafragmas rígidos"
   ],
   "metadata": {}
  },
  {
   "cell_type": "code",
   "execution_count": 52,
   "source": [
    "if RigidDiaphragm == 'ON':\r\n",
    "  dirDia = 3 # perpendicular al plano del diafragma\r\n",
    "  for Nd in Diap:\r\n",
    "    ops.node(int(Nd[0]), *Nd[1:4])\r\n",
    "    ops.fix(int(Nd[0]),*[0,0,1,1,1,0])\r\n",
    "    NodesDi = []\r\n",
    "    for Ni in Nodes:\r\n",
    "      if Ni[3]==Nd[3]:\r\n",
    "        NodesDi.append(int(Ni[0]))\r\n",
    "    ops.rigidDiaphragm(dirDia,int(Nd[0]),*NodesDi)"
   ],
   "outputs": [],
   "metadata": {
    "executionInfo": {
     "elapsed": 68,
     "status": "aborted",
     "timestamp": 1623969621101,
     "user": {
      "displayName": "JPI INGENIERÍA E INNOVACIÓN",
      "photoUrl": "https://lh3.googleusercontent.com/a-/AOh14Gg2DQY3KLdtmJmmHLuKfVOSmw6qx8C6hq3657Ay=s64",
      "userId": "00771040806782386087"
     },
     "user_tz": 300
    },
    "id": "C9ZpVPzNu7Ej"
   }
  },
  {
   "cell_type": "markdown",
   "source": [
    "#ASIGNAMOS RESTRICCIONES EN LA BASE"
   ],
   "metadata": {
    "id": "yQoFaQ-kDSs5"
   }
  },
  {
   "cell_type": "code",
   "execution_count": 53,
   "source": [
    "# Restricciones\r\n",
    "ops.fixZ(0.0, *[1,1,1,1,1,1], '-tol', 1e-6)\r\n",
    "\r\n",
    "#EJES LOCALES\r\n",
    "#Establecemos transformación geométrica\r\n",
    "ops.geomTransf('PDelta', int(1), *[1, 0, 0])\r\n",
    "ops.geomTransf('Linear', int(2), *[1,-1, 0])\r\n",
    "\r\n",
    "#DEFINIMOS ELEMENTOS CON SUS PROPIEDADES\r\n",
    "# Creamos los elementos\r\n",
    "for Ele in Elems:\r\n",
    "  if int(Ele[5]) == 1: # 1 Columna\r\n",
    "    ops.element('elasticBeamColumn', int(Ele[0]), int(Ele[1]), int(Ele[2]), Ac, E, G, Jxxc, Iyc, Izc, int(Ele[5]),'-mass', ρ*Ac)\r\n",
    "  elif int(Ele[5]) == 2: # 2 Viga\r\n",
    "    ops.element('elasticBeamColumn', int(Ele[0]), int(Ele[1]), int(Ele[2]), Av, E, G, Jxxv, Iyv, Izv, int(Ele[5]),'-mass', ρ*Av)#*(dx-a)/dx)\r\n",
    "  elif int(Ele[5]) == 3: # 3 Muro en x\r\n",
    "    ops.element('MVLEM_3D', int(Ele[0]), int(Ele[1]), int(Ele[2]), int(Ele[3]), int(Ele[4]), mufx, '-thick', *ttx[:], '-width', *wwx[:], '-rho', *ρρx[:], '-matConcrete', *concx[:], '-matSteel', *acerox[:], '-matShear', int(3), '-Poisson', 0.2, '-Density', ρ)\r\n",
    "    #ops.element('quad',int(Ele[0]), int(Ele[1]), int(Ele[2]), int(Ele[3]), int(Ele[4]), t, 'PlaneStrain', int(1),0,ρ)\r\n",
    "  elif int(Ele[5]) == 4: # 4 Muro en y\r\n",
    "    ops.element('MVLEM_3D', int(Ele[0]), int(Ele[1]), int(Ele[2]), int(Ele[3]), int(Ele[4]), mufy, '-thick', *tty[:], '-width', *wwy[:], '-rho', *ρρy[:], '-matConcrete', *concy[:], '-matSteel', *aceroy[:], '-matShear', int(3), '-Poisson', 0.2, '-Density', ρ)\r\n",
    "    #ops.element('quad',int(Ele[0]), int(Ele[1]), int(Ele[2]), int(Ele[3]), int(Ele[4]), t, 'PlaneStrain', int(1),0,ρ)\r\n",
    "\r\n",
    "#PLOTEO DEL MODELO\r\n",
    "#opsplt.plot_model(\"nodes\", \"elements\")\r\n",
    "#opsplt.plot_model()\r\n",
    "#plt.show()"
   ],
   "outputs": [
    {
     "output_type": "stream",
     "name": "stderr",
     "text": [
      "<ipython-input-53-df8123d16921>:17: DeprecationWarning: an integer is required (got type numpy.float64).  Implicit conversion to integers using __int__ is deprecated, and may be removed in a future version of Python.\n",
      "  ops.element('MVLEM_3D', int(Ele[0]), int(Ele[1]), int(Ele[2]), int(Ele[3]), int(Ele[4]), mufx, '-thick', *ttx[:], '-width', *wwx[:], '-rho', *ρρx[:], '-matConcrete', *concx[:], '-matSteel', *acerox[:], '-matShear', int(3), '-Poisson', 0.2, '-Density', ρ)\n",
      "<ipython-input-53-df8123d16921>:20: DeprecationWarning: an integer is required (got type numpy.float64).  Implicit conversion to integers using __int__ is deprecated, and may be removed in a future version of Python.\n",
      "  ops.element('MVLEM_3D', int(Ele[0]), int(Ele[1]), int(Ele[2]), int(Ele[3]), int(Ele[4]), mufy, '-thick', *tty[:], '-width', *wwy[:], '-rho', *ρρy[:], '-matConcrete', *concy[:], '-matSteel', *aceroy[:], '-matShear', int(3), '-Poisson', 0.2, '-Density', ρ)\n"
     ]
    }
   ],
   "metadata": {
    "executionInfo": {
     "elapsed": 70,
     "status": "aborted",
     "timestamp": 1623969621103,
     "user": {
      "displayName": "JPI INGENIERÍA E INNOVACIÓN",
      "photoUrl": "https://lh3.googleusercontent.com/a-/AOh14Gg2DQY3KLdtmJmmHLuKfVOSmw6qx8C6hq3657Ay=s64",
      "userId": "00771040806782386087"
     },
     "user_tz": 300
    },
    "id": "_qU0ebCuuzAf"
   }
  },
  {
   "cell_type": "markdown",
   "source": [
    "#ASIGNACIÓN DE MASAS Y MODOS DE VIBRACIÓN"
   ],
   "metadata": {}
  },
  {
   "cell_type": "code",
   "execution_count": 54,
   "source": [
    "# Aplicando Cargas vivas y muertas\r\n",
    "wLive = 250*kg/m**2\r\n",
    "wLosa = 300*kg/m**2\r\n",
    "wAcab = 100*kg/m**2\r\n",
    "wTabi = 150*kg/m**2\r\n",
    "wTotal = 1.0*(wLosa+wAcab+wTabi)+0.25*wLive\r\n",
    "#print(wTotal)\r\n",
    "#\r\n",
    "Carga = wTotal*dx*dy*m**2\r\n",
    "for Ni in Nodes:\r\n",
    "    ops.mass(int(Ni[0]),Ni[4]*Carga,Ni[4]*Carga,0.0)\r\n",
    "\r\n",
    "# Obtenemos los modos\r\n",
    "Nmodes = 3*nz"
   ],
   "outputs": [],
   "metadata": {}
  },
  {
   "cell_type": "code",
   "execution_count": 55,
   "source": [
    "# ploteamos el modo 1\r\n",
    "#opsplt.plot_modeshape(1, 2000)\r\n",
    "#plt.savefig('./modo_1.png',dpi=300)\r\n",
    "#opsplt.plot_modeshape(2, 2000)\r\n",
    "#opsplt.plot_modeshape(3, 2000)\r\n",
    "#plt.show()\r\n",
    "vals = ops.eigen(Nmodes)\r\n",
    "Tmodes = np.zeros(len(vals))\r\n",
    "for i in range(Nmodes):\r\n",
    "    Tmodes[i] = 2*np.pi/vals[i]**0.5\r\n",
    "    print(\"T[%i]: %.5f\"%(i+1,Tmodes[i]))"
   ],
   "outputs": [
    {
     "output_type": "stream",
     "name": "stdout",
     "text": [
      "T[1]: 1.31246\n",
      "T[2]: 1.31246\n",
      "T[3]: 1.02024\n",
      "T[4]: 0.40562\n",
      "T[5]: 0.40562\n",
      "T[6]: 0.30772\n",
      "T[7]: 0.21397\n",
      "T[8]: 0.21397\n",
      "T[9]: 0.15635\n",
      "T[10]: 0.13211\n",
      "T[11]: 0.13211\n",
      "T[12]: 0.09271\n",
      "T[13]: 0.08809\n",
      "T[14]: 0.08809\n",
      "T[15]: 0.06181\n",
      "T[16]: 0.06181\n",
      "T[17]: 0.05966\n",
      "T[18]: 0.05864\n",
      "T[19]: 0.05619\n",
      "T[20]: 0.05619\n",
      "T[21]: 0.05373\n",
      "T[22]: 0.05355\n",
      "T[23]: 0.05326\n",
      "T[24]: 0.05130\n",
      "T[25]: 0.05130\n",
      "T[26]: 0.05094\n",
      "T[27]: 0.05094\n",
      "T[28]: 0.05090\n",
      "T[29]: 0.05031\n",
      "T[30]: 0.04893\n"
     ]
    }
   ],
   "metadata": {
    "colab": {
     "base_uri": "https://localhost:8080/"
    },
    "executionInfo": {
     "elapsed": 23,
     "status": "ok",
     "timestamp": 1623953279541,
     "user": {
      "displayName": "JPI INGENIERÍA E INNOVACIÓN",
      "photoUrl": "https://lh3.googleusercontent.com/a-/AOh14Gg2DQY3KLdtmJmmHLuKfVOSmw6qx8C6hq3657Ay=s64",
      "userId": "00771040806782386087"
     },
     "user_tz": 300
    },
    "id": "9F4yH9tNvWV9",
    "outputId": "e075cb07-c012-4519-d0ea-a42c68a01174"
   }
  },
  {
   "cell_type": "markdown",
   "source": [
    "# ANÁLISIS PARA OBTENER LA MATRIZ DE MASAS\r\n",
    "#Realizamos un análisis para obtener la matriz de Masas"
   ],
   "metadata": {}
  },
  {
   "cell_type": "code",
   "execution_count": 56,
   "source": [
    "ops.wipeAnalysis()\r\n",
    "ops.system('FullGeneral')\r\n",
    "ops.numberer(\"Plain\")\r\n",
    "ops.constraints('Transformation') \r\n",
    "ops.algorithm('Linear')\r\n",
    "ops.analysis('Transient')\r\n",
    "ops.integrator('GimmeMCK',1.0,0.0,0.0)\r\n",
    "ops.analyze(1,0.0) "
   ],
   "outputs": [
    {
     "output_type": "stream",
     "name": "stderr",
     "text": [
      "WARNING analysis Transient - no Integrator specified, \n",
      " TransientIntegrator default will be used\n",
      "WARNING FullGenLinLapackSolver::solve() -factorization failed, matrix singular U(i,i) = 0, i= 1\n",
      "WARNING Linear::solveCurrentStep() -the LinearSOE failed in solve()\n",
      "DirectIntegrationAnalysis::analyze() - the Algorithm failed at time 0\n",
      "OpenSees > analyze failed, returned: -3 error flag\n"
     ]
    },
    {
     "output_type": "execute_result",
     "data": {
      "text/plain": [
       "-3"
      ]
     },
     "metadata": {},
     "execution_count": 56
    }
   ],
   "metadata": {}
  },
  {
   "cell_type": "code",
   "execution_count": 57,
   "source": [
    "# Obtenemos la matriz de Masas\r\n",
    "N = ops.systemSize()         # Número de Grados de Libertad\r\n",
    "Mmatrix = ops.printA('-ret')\r\n",
    "Mmatrix = np.array(Mmatrix).reshape((N,N))\r\n",
    "MF = Mmatrix[-3*nz:,-3*nz:]\r\n",
    "\r\n",
    "#plt.show()"
   ],
   "outputs": [],
   "metadata": {
    "colab": {
     "base_uri": "https://localhost:8080/"
    },
    "executionInfo": {
     "elapsed": 21,
     "status": "ok",
     "timestamp": 1623953279542,
     "user": {
      "displayName": "JPI INGENIERÍA E INNOVACIÓN",
      "photoUrl": "https://lh3.googleusercontent.com/a-/AOh14Gg2DQY3KLdtmJmmHLuKfVOSmw6qx8C6hq3657Ay=s64",
      "userId": "00771040806782386087"
     },
     "user_tz": 300
    },
    "id": "4q2B2BcyvllO",
    "outputId": "a3ccaf69-a2a2-40dd-ef6f-d2bd799eca1f"
   }
  },
  {
   "cell_type": "markdown",
   "source": [
    "# ANÁLISIS ESTÁTICO"
   ],
   "metadata": {}
  },
  {
   "cell_type": "code",
   "execution_count": 58,
   "source": [
    "def espectro_E030(T,Z=0.45,U=1.5,S=1.0,Tp=0.4,Tl=2.5,R=1):\r\n",
    "    from numpy import zeros\r\n",
    "    n = len(T)\r\n",
    "    E030 = zeros(n)\r\n",
    "    for i in range(n):\r\n",
    "        if T[i]>=0 and T[i]<0.2*Tp:\r\n",
    "            E030[i]=2.5#1+7.5*T[i]/Tp\r\n",
    "        elif T[i]>=0.2*Tp and T[i]<Tp:\r\n",
    "            E030[i]=2.5\r\n",
    "        elif T[i]>=Tp and T[i]<Tl:\r\n",
    "            E030[i] = 2.5*(Tp/T[i])\r\n",
    "        elif T[i]>=Tl:\r\n",
    "            E030[i] = 2.5*(Tp*Tl/T[i]**2)\r\n",
    "        else:\r\n",
    "            print(\"El periodo no puede ser negativo!\")\r\n",
    "    return E030*Z*U*S/R\r\n",
    "\r\n",
    "def get_static_loads(coef,p,h,T):\r\n",
    "    from numpy import zeros\r\n",
    "    n = len(h)\r\n",
    "    V = coef*sum(p)\r\n",
    "    F = zeros(n)\r\n",
    "    #\r\n",
    "    if T > 0.0 and T <= 0.5:\r\n",
    "        k=1.0\r\n",
    "    elif T>0.5:\r\n",
    "        k = 0.75+0.5*T\r\n",
    "    else:\r\n",
    "        print('El periodo es negativo!')\r\n",
    "    #\r\n",
    "    div = 0.\r\n",
    "    for i in range(n):\r\n",
    "        div = div + p[i]*h[i]**k\r\n",
    "    #\r\n",
    "    for i in range(n):\r\n",
    "        F[i] = p[i]*h[i]**k/div*V\r\n",
    "    return F,k"
   ],
   "outputs": [],
   "metadata": {}
  },
  {
   "cell_type": "markdown",
   "source": [
    "# Análisis Estático en X"
   ],
   "metadata": {}
  },
  {
   "cell_type": "code",
   "execution_count": 59,
   "source": [
    "np.set_printoptions(precision=3,linewidth=300,suppress=True)\r\n",
    "H = np.arange(1,nz+1)*dz\r\n",
    "P = sum(MF[0::3,0::3])*9.80665 # Peso por nivel\r\n",
    "#print(H,P)\r\n",
    "Ro = 7.0\r\n",
    "E030 = espectro_E030(Tmodes,Z=0.45,U=1.0,S=1.0,Tp=0.4,Tl=2.5,R=Ro)\r\n",
    "F, k = get_static_loads(E030[0],P,H,Tmodes[0])\r\n",
    "CR = E030[0]/(0.45*1.*1.)\r\n",
    "print('C/R=',CR)\r\n",
    "print(E030[0],k)\r\n",
    "\r\n",
    "#opsplt.createODB('Dual','Sismo')"
   ],
   "outputs": [
    {
     "output_type": "stream",
     "name": "stdout",
     "text": [
      "C/R= 0.10884644242484867\n",
      "0.048980899091181904 1.406232485300456\n"
     ]
    }
   ],
   "metadata": {}
  },
  {
   "cell_type": "markdown",
   "source": [
    "# Aplicamos fuerzas nodales"
   ],
   "metadata": {}
  },
  {
   "cell_type": "code",
   "execution_count": 60,
   "source": [
    "ops.timeSeries('Linear',1)\r\n",
    "ops.pattern('Plain',1,1)\r\n",
    "Le = ny*dy*0.05\r\n",
    "for i in range(nz):\r\n",
    "    #print(int(Diap[i][0]))\r\n",
    "    ops.load(int(Diap[i][0]),F[i],0.,0.,0.,0.,F[i]*Le)"
   ],
   "outputs": [],
   "metadata": {}
  },
  {
   "cell_type": "markdown",
   "source": [
    "## Realizamos el análisis"
   ],
   "metadata": {}
  },
  {
   "cell_type": "code",
   "execution_count": 61,
   "source": [
    "ops.wipeAnalysis()\r\n",
    "ops.constraints('Transformation')\r\n",
    "ops.numberer('Plain')\r\n",
    "ops.system('FullGeneral')\r\n",
    "ops.algorithm('Linear')\r\n",
    "ops.integrator('LoadControl',1)\r\n",
    "ops.analysis('Static')\r\n",
    "ops.analyze(1)"
   ],
   "outputs": [
    {
     "output_type": "execute_result",
     "data": {
      "text/plain": [
       "0"
      ]
     },
     "metadata": {},
     "execution_count": 61
    }
   ],
   "metadata": {}
  },
  {
   "cell_type": "code",
   "execution_count": 62,
   "source": [
    "#Calculando cortantes\r\n",
    "VS = np.cumsum(F[::-1])[::-1]"
   ],
   "outputs": [],
   "metadata": {}
  },
  {
   "cell_type": "code",
   "execution_count": 63,
   "source": [
    "#Resultados del análisis estático en X\r\n",
    "# Desplazamientos\r\n",
    "df1 = pd.DataFrame(columns=['Nivel','Vx(kN)','UxMax(cm)','UyMax(cm)','DriftX(‰)','DriftY(‰)'])\r\n",
    "tempX, tempY = 0., 0.\r\n",
    "for i in range(nz):\r\n",
    "    desX = ops.nodeDisp(int(Diap[i][0]),1)\r\n",
    "    desY = ops.nodeDisp(int(Diap[i][0]),2)\r\n",
    "    rotZ = ops.nodeDisp(int(Diap[i][0]),6)\r\n",
    "    desX = desX + abs(rotZ*ny*dy/2)\r\n",
    "    desY = desY + abs(rotZ*nx*dx/2)\r\n",
    "    desX, desY = desX*0.75*Ro, desY*0.75*Ro\r\n",
    "    driftX = 1000.*(desX-tempX)/dz\r\n",
    "    driftY = 1000.*(desY-tempY)/dz \r\n",
    "    tempX, tempY = desX, desY\r\n",
    "    df1 = df1.append({'Nivel':i+1,'Vx(kN)':VS[i]/1000,'UxMax(cm)':desX*100,'UyMax(cm)':desY*100,\r\n",
    "                    'DriftX(‰)':driftX,'DriftY(‰)':driftY}, ignore_index=True)\r\n",
    "print('\\nANÁLISIS ESTÁTICO EN X')\r\n",
    "print(df1.round(4))\r\n",
    "\r\n",
    "print(ops.nodeReaction(1))\r\n",
    "#Se plotea la deformación obtenida\r\n",
    "\r\n",
    "#ops.wipe()\r\n",
    "#opsv.plot_defo(200,fig_wi_he=(30., 25.),az_el=(-130,20))\r\n",
    "#opsplt.plot_modeshape(2, 300, Model=\"Dual 10-1\")\r\n",
    "#opsplt.plot_deformedshape(Model=\"Dual\", LoadCase=\"Sismo\")\r\n",
    "#plt.show"
   ],
   "outputs": [
    {
     "output_type": "stream",
     "name": "stdout",
     "text": [
      "\n",
      "ANÁLISIS ESTÁTICO EN X\n",
      "   Nivel     Vx(kN)  UxMax(cm)  UyMax(cm)  DriftX(‰)  DriftY(‰)\n",
      "0    1.0  1767.5997     1.1767     0.0754     3.9223     0.2514\n",
      "1    2.0  1752.4330     3.5783     0.2342     8.0052     0.5293\n",
      "2    3.0  1712.2347     6.4069     0.4277     9.4287     0.6449\n",
      "3    4.0  1641.1406     9.3055     0.6302     9.6620     0.6752\n",
      "4    5.0  1534.5972    12.0926     0.8273     9.2904     0.6570\n",
      "5    6.0  1388.7814    14.6510     1.0095     8.5280     0.6071\n",
      "6    7.0  1200.3507    16.8890     1.1697     7.4601     0.5341\n",
      "7    8.0   966.3083    18.7363     1.3032     6.1576     0.4452\n",
      "8    9.0   683.9214    20.1436     1.4079     4.6912     0.3487\n",
      "9   10.0   350.6661    21.1667     1.4888     3.4101     0.2697\n",
      "[0.0, 0.0, 0.0, 0.0, 0.0, 0.0]\n"
     ]
    }
   ],
   "metadata": {}
  },
  {
   "cell_type": "code",
   "execution_count": 64,
   "source": [
    "#Análisis Estático en Y\r\n",
    "np.set_printoptions(precision=3,linewidth=300,suppress=True)\r\n",
    "H = np.arange(1,nz+1)*dz\r\n",
    "P = sum(MF[0::3,0::3])*9.80665 # Peso por nivel\r\n",
    "#print(H,P)\r\n",
    "Ro = 7.0\r\n",
    "E030 = espectro_E030(Tmodes,Z=0.45,U=1.0,S=1.0,Tp=0.4,Tl=2.5,R=Ro)\r\n",
    "F, k = get_static_loads(E030[0],P,H,Tmodes[0])\r\n",
    "CR = E030[0]/(0.45*1.*1.)\r\n",
    "print('C/R=',CR)\r\n",
    "print(E030[0],k)"
   ],
   "outputs": [
    {
     "output_type": "stream",
     "name": "stdout",
     "text": [
      "C/R= 0.10884644242484867\n",
      "0.048980899091181904 1.406232485300456\n"
     ]
    }
   ],
   "metadata": {}
  },
  {
   "cell_type": "code",
   "execution_count": 65,
   "source": [
    "#opsplt.createODB('Dual 10-1','Sismo_Y',Nmodes=ni)\r\n",
    "\r\n",
    "##Aplicamos fuerzas nodales\r\n",
    "ops.loadConst('-time', 0.0)\r\n",
    "ops.remove('timeSeries',1)\r\n",
    "ops.remove('loadPattern',1)\r\n",
    "ops.timeSeries('Linear',1)\r\n",
    "ops.pattern('Plain',1,1)\r\n",
    "Le = nx*dx*0.05\r\n",
    "for i in range(nz):\r\n",
    "    #print(int(Diap[i][0]))\r\n",
    "    ops.load(int(Diap[i][0]),0.,F[i],0.,0.,0.,F[i]*Le)\r\n",
    "\r\n",
    "\r\n",
    "#Realizamos el análisis\r\n",
    "ops.wipeAnalysis()\r\n",
    "ops.constraints('Transformation')\r\n",
    "ops.numberer('Plain')\r\n",
    "ops.system('FullGeneral')\r\n",
    "ops.algorithm('Linear')\r\n",
    "ops.integrator('LoadControl',1)\r\n",
    "ops.analysis('Static')\r\n",
    "ops.analyze(1)\r\n",
    "\r\n",
    "#Calculando cortantes\r\n",
    "VS = np.cumsum(F[::-1])[::-1]"
   ],
   "outputs": [],
   "metadata": {}
  },
  {
   "cell_type": "code",
   "execution_count": 66,
   "source": [
    "#Resultados del análisis estático en Y\r\n",
    "# Desplazamientos\r\n",
    "df2 = pd.DataFrame(columns=['Nivel','Vy(kN)','UxMax(cm)','UyMax(cm)','DriftX(‰)','DriftY(‰)'])\r\n",
    "tempX, tempY = 0., 0.\r\n",
    "for i in range(nz):\r\n",
    "    desX = ops.nodeDisp(int(Diap[i][0]),1)\r\n",
    "    desY = ops.nodeDisp(int(Diap[i][0]),2)\r\n",
    "    rotZ = ops.nodeDisp(int(Diap[i][0]),6)\r\n",
    "    desX = desX + abs(rotZ*ny*dy/2)\r\n",
    "    desY = desY + abs(rotZ*nx*dx/2)\r\n",
    "    desX, desY = desX*0.75*Ro, desY*0.75*Ro\r\n",
    "    driftX = 1000.*(desX-tempX)/dz\r\n",
    "    driftY = 1000.*(desY-tempY)/dz \r\n",
    "    tempX, tempY = desX, desY\r\n",
    "    df2 = df2.append({'Nivel':i+1,'Vy(kN)':VS[i]/1000,'UxMax(cm)':desX*100,'UyMax(cm)':desY*100,\r\n",
    "                    'DriftX(‰)':driftX,'DriftY(‰)':driftY}, ignore_index=True)\r\n",
    "print('\\nANÁLISIS ESTÁTICO EN Y')\r\n",
    "print(df2.round(4))"
   ],
   "outputs": [
    {
     "output_type": "stream",
     "name": "stdout",
     "text": [
      "\n",
      "ANÁLISIS ESTÁTICO EN Y\n",
      "   Nivel     Vy(kN)  UxMax(cm)  UyMax(cm)  DriftX(‰)  DriftY(‰)\n",
      "0    1.0  1767.5997     0.0761     1.1774     0.2536     3.9248\n",
      "1    2.0  1752.4330     0.2364     3.5807     0.5343     8.0108\n",
      "2    3.0  1712.2347     0.4317     6.4113     0.6511     9.4356\n",
      "3    4.0  1641.1406     0.6361     9.3120     0.6813     9.6688\n",
      "4    5.0  1534.5972     0.8348    12.1008     0.6623     9.2962\n",
      "5    6.0  1388.7814     1.0182    14.6606     0.6112     8.5325\n",
      "6    7.0  1200.3507     1.1793    16.8996     0.5370     7.4633\n",
      "7    8.0   966.3083     1.3134    18.7475     0.4471     6.1598\n",
      "8    9.0   683.9214     1.4184    20.1553     0.3500     4.6926\n",
      "9   10.0   350.6661     1.4996    21.1786     0.2706     3.4110\n"
     ]
    }
   ],
   "metadata": {}
  },
  {
   "cell_type": "code",
   "execution_count": 67,
   "source": [
    "#MASAS EFECTIVAS\r\n",
    "Tags = ops.getNodeTags()\r\n",
    "# print(Tags)\r\n",
    "modo = np.zeros((Nmodes,3*nz))\r\n",
    "for j in range(1,Nmodes+1):\r\n",
    "    ind = 0\r\n",
    "    for i in Tags[-nz:]:\r\n",
    "        temp = ops.nodeEigenvector(i,j)\r\n",
    "        modo[j-1,[ind,ind+1,ind+2]] = temp[0],temp[1],temp[-1]\r\n",
    "        ind = ind + 3\r\n",
    "\r\n",
    "# Definimos valores iniciales\r\n",
    "Ux,Uy,Rz = np.zeros(3*nz),np.zeros(3*nz),np.zeros(3*nz)\r\n",
    "Ux[0::3]=1\r\n",
    "Uy[1::3]=1\r\n",
    "Rz[2::3]=1\r\n",
    "SUMx, SUMy, SUMr = 0., 0., 0.\r\n",
    "ni = 0\r\n",
    "\r\n",
    "Mx = sum(sum(MF[0::3,0::3]))\r\n",
    "My = sum(sum(MF[1::3,1::3]))\r\n",
    "Mr = sum(sum(MF[2::3,2::3]))\r\n",
    "\r\n",
    "df3 = pd.DataFrame(columns=['Modo','T(s)','FPRx','FPRy','FPRr','SumUx','SumUy','SumRz'])\r\n",
    "for j in range(1,Nmodes+1):\r\n",
    "    FPx = modo[j-1].T@MF@Ux\r\n",
    "    FPy = modo[j-1].T@MF@Uy\r\n",
    "    FPr = modo[j-1].T@MF@Rz\r\n",
    "    FPRx = FPx**2/Mx\r\n",
    "    FPRy = FPy**2/My\r\n",
    "    FPRr = FPr**2/Mr\r\n",
    "    SUMx = SUMx + FPRx\r\n",
    "    SUMy = SUMy + FPRy\r\n",
    "    SUMr = SUMr + FPRr\r\n",
    "    #\r\n",
    "    if min(SUMx,SUMy,SUMr)>=0.90 and ni==0:\r\n",
    "        ni = j\r\n",
    "    df3 = df3.append({'Modo':j, 'T(s)':Tmodes[j-1],'FPRx':FPRx,'FPRy':FPRy,'FPRr':FPRr,'SumUx':SUMx,\r\n",
    "                    'SumUy':SUMy,'SumRz':SUMr}, ignore_index=True)\r\n",
    "print(df3.round(5))\r\n",
    "print('N° mínimo de Modos a considerar:',ni)"
   ],
   "outputs": [
    {
     "output_type": "stream",
     "name": "stdout",
     "text": [
      "    Modo     T(s)     FPRx     FPRy     FPRr    SumUx    SumUy    SumRz\n",
      "0    1.0  1.31246  0.67204  0.10897  0.00000  0.67204  0.10897  0.00000\n",
      "1    2.0  1.31246  0.10897  0.67204  0.00000  0.78102  0.78102  0.00000\n",
      "2    3.0  1.02024  0.00000  0.00000  0.77088  0.78102  0.78102  0.77088\n",
      "3    4.0  0.40562  0.02035  0.08473  0.00000  0.80136  0.86574  0.77088\n",
      "4    5.0  0.40562  0.08473  0.02035  0.00000  0.88609  0.88609  0.77088\n",
      "5    6.0  0.30772  0.00000  0.00000  0.10815  0.88609  0.88609  0.87903\n",
      "6    7.0  0.21397  0.00001  0.04328  0.00000  0.88609  0.92936  0.87903\n",
      "7    8.0  0.21397  0.04328  0.00001  0.00000  0.92937  0.92937  0.87903\n",
      "8    9.0  0.15635  0.00000  0.00000  0.04637  0.92937  0.92937  0.92540\n",
      "9   10.0  0.13211  0.00328  0.02175  0.00000  0.93265  0.95112  0.92540\n",
      "10  11.0  0.13211  0.02175  0.00328  0.00000  0.95440  0.95440  0.92540\n",
      "11  12.0  0.09271  0.00000  0.00000  0.02669  0.95440  0.95440  0.95209\n",
      "12  13.0  0.08809  0.01057  0.00564  0.00000  0.96497  0.96004  0.95209\n",
      "13  14.0  0.08809  0.00564  0.01057  0.00000  0.97060  0.97060  0.95209\n",
      "14  15.0  0.06181  0.00010  0.01102  0.00000  0.97070  0.98162  0.95209\n",
      "15  16.0  0.06181  0.01102  0.00010  0.00000  0.98172  0.98172  0.95209\n",
      "16  17.0  0.05966  0.00000  0.00000  0.01699  0.98172  0.98172  0.96908\n",
      "17  18.0  0.05864  0.00000  0.00000  0.00000  0.98172  0.98172  0.96908\n",
      "18  19.0  0.05619  0.00000  0.00000  0.00000  0.98173  0.98172  0.96908\n",
      "19  20.0  0.05619  0.00000  0.00000  0.00000  0.98173  0.98173  0.96908\n",
      "20  21.0  0.05373  0.00000  0.00000  0.00000  0.98173  0.98173  0.96908\n",
      "21  22.0  0.05355  0.00000  0.00000  0.00000  0.98173  0.98173  0.96908\n",
      "22  23.0  0.05326  0.00000  0.00000  0.00000  0.98173  0.98173  0.96908\n",
      "23  24.0  0.05130  0.00001  0.00000  0.00000  0.98173  0.98173  0.96908\n",
      "24  25.0  0.05130  0.00000  0.00001  0.00000  0.98173  0.98173  0.96908\n",
      "25  26.0  0.05094  0.00000  0.00000  0.00000  0.98174  0.98174  0.96908\n",
      "26  27.0  0.05094  0.00000  0.00000  0.00000  0.98174  0.98174  0.96908\n",
      "27  28.0  0.05090  0.00000  0.00000  0.00000  0.98174  0.98174  0.96908\n",
      "28  29.0  0.05031  0.00000  0.00000  0.00000  0.98174  0.98174  0.96908\n",
      "29  30.0  0.04893  0.00000  0.00000  0.00000  0.98174  0.98174  0.96908\n",
      "N° mínimo de Modos a considerar: 9\n"
     ]
    }
   ],
   "metadata": {}
  },
  {
   "cell_type": "code",
   "execution_count": 68,
   "source": [
    "#ANÁLISIS DINÁMICO MODAL ESPECTRAL\r\n",
    "#Combinación 0.75*ABS+0.25*SRSS\r\n",
    "def getCombo(E030,MF,modo,Tmodes,NT,ni):\r\n",
    "\r\n",
    "    # Definimos valores iniciales\r\n",
    "    D_ABSx,D_RCSCx = np.zeros(NT),np.zeros(NT)\r\n",
    "    Δ_ABSx,Δ_RCSCx = np.zeros(NT),np.zeros(NT)\r\n",
    "    V_ABSx,V_RCSCx = np.zeros(NT),np.zeros(NT)\r\n",
    "    D_ABSy,D_RCSCy = np.zeros(NT),np.zeros(NT)\r\n",
    "    Δ_ABSy,Δ_RCSCy = np.zeros(NT),np.zeros(NT)\r\n",
    "    V_ABSy,V_RCSCy = np.zeros(NT),np.zeros(NT)\r\n",
    "\r\n",
    "    # Se realiza la Superpocisión Modal Espectral\r\n",
    "    for j in range(1,ni+1):#ni+1\r\n",
    "        FPx=modo[j-1].T@MF@Ux\r\n",
    "        FPy=modo[j-1].T@MF@Uy\r\n",
    "        FPr=modo[j-1].T@MF@Rz\r\n",
    "        #\r\n",
    "        Sa = E030[j-1]*9.80665\r\n",
    "        Sd = Sa/(2*np.pi/Tmodes[j-1])**2\r\n",
    "        #\r\n",
    "        respDX = Sd*FPx*modo[j-1]\r\n",
    "        respAX = Sa*FPx*MF@modo[j-1]\r\n",
    "        D_ABSx = D_ABSx + abs(respDX)\r\n",
    "        D_RCSCx = D_RCSCx + (respDX)**2\r\n",
    "        respDX[3:] = respDX[3:] - respDX[:-3]\r\n",
    "        Δ_ABSx = Δ_ABSx + abs(respDX)\r\n",
    "        Δ_RCSCx = Δ_RCSCx + (respDX)**2\r\n",
    "        V_ABSx = V_ABSx + abs(np.cumsum(respAX[::-1])[::-1])\r\n",
    "        V_RCSCx = V_RCSCx + (np.cumsum(respAX[::-1])[::-1])**2\r\n",
    "\r\n",
    "        #\r\n",
    "        respDY = Sd*FPy*modo[j-1]\r\n",
    "        respAY = Sa*FPy*MF@modo[j-1]\r\n",
    "        D_ABSy = D_ABSy + abs(respDY)\r\n",
    "        D_RCSCy = D_RCSCy + (respDY)**2\r\n",
    "        respDY[3:] = respDY[3:] - respDY[:-3]\r\n",
    "        Δ_ABSy = Δ_ABSy + abs(respDY)\r\n",
    "        Δ_RCSCy = Δ_RCSCy + (respDY)**2\r\n",
    "        V_ABSy = V_ABSy + abs(np.cumsum(respAY[::-1])[::-1])\r\n",
    "        V_RCSCy = V_RCSCy + (np.cumsum(respAY[::-1])[::-1])**2\r\n",
    "    \r\n",
    "    # Se realiza la combinación 25%ABS + 75%RCSC\r\n",
    "    D_RCSCx = D_RCSCx**0.5\r\n",
    "    Δ_RCSCx = Δ_RCSCx**0.5\r\n",
    "    V_RCSCx = V_RCSCx**0.5\r\n",
    "    DDx = 0.25*D_ABSx + 0.75*D_RCSCx\r\n",
    "    ΔDx = 0.25*Δ_ABSx + 0.75*Δ_RCSCx\r\n",
    "    VDx = 0.25*V_ABSx + 0.75*V_RCSCx\r\n",
    "    #\r\n",
    "    D_RCSCy = D_RCSCy**0.5\r\n",
    "    Δ_RCSCy = Δ_RCSCy**0.5\r\n",
    "    V_RCSCy = V_RCSCy**0.5\r\n",
    "    DDy = 0.25*D_ABSy + 0.75*D_RCSCy\r\n",
    "    ΔDy = 0.25*Δ_ABSy + 0.75*Δ_RCSCy\r\n",
    "    VDy = 0.25*V_ABSy + 0.75*V_RCSCy\r\n",
    "    \r\n",
    "\r\n",
    "    df = pd.DataFrame(columns=['Nivel','VDx(kN)','VDy(kN)','UDx(cm)','UDy(cm)'])\r\n",
    "    for i in range(int(NT/3)):\r\n",
    "        VDy[1::3][i]=VDx[0::3][i]\r\n",
    "\r\n",
    "    for i in range(int(NT/3)):\r\n",
    "        df = df.append({'Nivel':i+1, 'VDx(kN)':VDx[0::3][i]/1000,\r\n",
    "        'VDy(kN)':VDy[1::3][i]/1000,'UDx(cm)':DDx[0::3][i]*100,\r\n",
    "        'UDy(cm)':DDy[1::3][i]*100}, ignore_index=True)\r\n",
    "\r\n",
    "    return DDx, ΔDx, VDx, DDy, ΔDy, VDy, df"
   ],
   "outputs": [],
   "metadata": {}
  },
  {
   "cell_type": "code",
   "execution_count": 69,
   "source": [
    "DDx, ΔDx, VDx, DDy, ΔDy, VDy, df4 = getCombo(E030,MF,modo,Tmodes,3*nz,ni)\r\n",
    "print('\\nANÁLISIS DINÁMICO SIN ESCALAR')\r\n",
    "df4 = df4.astype({'Nivel':int})\r\n",
    "print(df4.round(4))"
   ],
   "outputs": [
    {
     "output_type": "stream",
     "name": "stdout",
     "text": [
      "\n",
      "ANÁLISIS DINÁMICO SIN ESCALAR\n",
      "   Nivel    VDx(kN)    VDy(kN)  UDx(cm)  UDy(cm)\n",
      "0      1  1552.7921  1552.7921   0.1745   0.1745\n",
      "1      2  1472.5274  1472.5274   0.5170   0.5170\n",
      "2      3  1273.6032  1273.6032   0.8932   0.8932\n",
      "3      4  1092.2617  1092.2617   1.2453   1.2453\n",
      "4      5  1002.3740  1002.3740   1.5581   1.5581\n",
      "5      6  1034.7068  1034.7068   1.8334   1.8334\n",
      "6      7  1018.9731  1018.9731   2.0507   2.0507\n",
      "7      8   980.8669   980.8669   2.2565   2.2565\n",
      "8      9   818.0586   818.0586   2.4389   2.4389\n",
      "9     10   471.6605   471.6605   2.5864   2.5864\n"
     ]
    }
   ],
   "metadata": {}
  },
  {
   "cell_type": "code",
   "execution_count": 70,
   "source": [
    "# Escalamiento de los resultados del análisis dinámico\r\n",
    "if VDx[0::3][0]<0.80*VS[0]:\r\n",
    "    FSx  = 0.80*VS[0]/VDx[0::3][0]\r\n",
    "    msjx = 'SI es necesario aplicar un Factor de Escala en X: %.4f'%FSx\r\n",
    "else:\r\n",
    "    FSx = 1.\r\n",
    "    msjx = 'NO es necesario escalar en X'\r\n",
    "\r\n",
    "if VDy[1::3][0]<0.80*VS[0]:\r\n",
    "    FSy  = 0.80*VS[0]/VDy[1::3][0]\r\n",
    "    msjy = 'SI es necesario aplicar un Factor de Escala en Y: %.4f'%FSy\r\n",
    "else:\r\n",
    "    FSy = 1.\r\n",
    "    msjy = 'NO es necesario escalar en Y'\r\n",
    "\r\n",
    "texto1 = '\\nAl comparar la cortante basal obtenida en el análisis dinámico en X \\n\\\r\n",
    "(%.2f kN) y el 80%% de la cortante basal del análisis estático en X (%.2f kN), \\n\\\r\n",
    "se obtiene que %s. '%(VDx[0::3][0]/1000,0.80*VS[0]/1000,msjx)\r\n",
    "texto1 = texto1 + '\\nEn la dirección Y, la cortante basal obtenida en el análisis \\n\\\r\n",
    "dinámico es %.2f kN y el 80%% de la cortante basal del análisis estático es %.2f kN. \\n\\\r\n",
    "Por lo que %s.'%(VDy[1::3][0]/1000,0.80*VS[0]/1000,msjy)\r\n",
    "print(texto1)\r\n",
    "\r\n",
    "# Se aplican los Factores de Escala\r\n",
    "print('\\nANÁLISIS DINÁMICO FINAL')\r\n",
    "df5 = pd.DataFrame(columns=['Nivel','Vx(kN)','Vy(kN)','Ux(cm)','Uy(cm)','Δx(‰)','Δy(‰)'])\r\n",
    "for i in range(nz):\r\n",
    "    Δx = 0.75*Ro*ΔDx[0::3][i]/dz\r\n",
    "    Δy = 0.75*Ro*ΔDy[1::3][i]/dz\r\n",
    "    #\r\n",
    "    df5 = df5.append({'Nivel':i+1, 'Vx(kN)':FSx*VDx[0::3][i]/1000,\r\n",
    "        'Vy(kN)':FSy*VDy[1::3][i]/1000,'Ux(cm)':0.75*Ro*DDx[0::3][i]*100,\r\n",
    "        'Uy(cm)':0.75*Ro*DDy[1::3][i]*100,'Δx(‰)':Δx*1000,'Δy(‰)':Δy*1000}, ignore_index=True)\r\n",
    "df5 = df5.astype({'Nivel':int})\r\n",
    "print(df5.round(4))\r\n",
    "\r\n",
    "maxdriftx=vecX.max()\r\n",
    "maxdrifty=vecY.max()"
   ],
   "outputs": [
    {
     "output_type": "stream",
     "name": "stdout",
     "text": [
      "\n",
      "Al comparar la cortante basal obtenida en el análisis dinámico en X \n",
      "(1552.79 kN) y el 80% de la cortante basal del análisis estático en X (1414.08 kN), \n",
      "se obtiene que NO es necesario escalar en X. \n",
      "En la dirección Y, la cortante basal obtenida en el análisis \n",
      "dinámico es 1552.79 kN y el 80% de la cortante basal del análisis estático es 1414.08 kN. \n",
      "Por lo que NO es necesario escalar en Y.\n",
      "\n",
      "ANÁLISIS DINÁMICO FINAL\n",
      "   Nivel     Vx(kN)     Vy(kN)   Ux(cm)   Uy(cm)   Δx(‰)   Δy(‰)\n",
      "0      1  1552.7921  1552.7921   0.9159   0.9159  3.0530  3.0530\n",
      "1      2  1472.5274  1472.5274   2.7140   2.7140  5.9958  5.9958\n",
      "2      3  1273.6032  1273.6032   4.6894   4.6894  6.6056  6.6056\n",
      "3      4  1092.2617  1092.2617   6.5378   6.5378  6.4419  6.4419\n",
      "4      5  1002.3740  1002.3740   8.1800   8.1800  6.1173  6.1173\n",
      "5      6  1034.7068  1034.7068   9.6254   9.6254  5.8453  5.8453\n",
      "6      7  1018.9731  1018.9731  10.7662  10.7662  5.2925  5.2925\n",
      "7      8   980.8669   980.8669  11.8466  11.8466  4.7070  4.7070\n",
      "8      9   818.0586   818.0586  12.8044  12.8044  3.8779  3.8779\n",
      "9     10   471.6605   471.6605  13.5786  13.5786  2.9474  2.9474\n"
     ]
    }
   ],
   "metadata": {}
  },
  {
   "cell_type": "code",
   "execution_count": 71,
   "source": [
    "# Ploteamos las Distorsiones\r\n",
    "vecX = np.array(df5.loc[:,'Δx(‰)'])\r\n",
    "vecY = np.array(df5.loc[:,'Δy(‰)'])\r\n",
    "lim = 1.1*max(vecX.max(),vecY.max())\r\n",
    "#\r\n",
    "plt.plot(np.insert(vecX,0,0),np.arange(nz+1),'bo--',label='drift X',lw = 0.8)\r\n",
    "plt.plot(np.insert(vecY,0,0),np.arange(nz+1),'ro--',label='drift Y',lw = 0.8)\r\n",
    "plt.legend()\r\n",
    "plt.xlabel('Distorsión (‰)')\r\n",
    "plt.ylabel('Nivel')\r\n",
    "plt.axis([-0.05,lim,-0.05,nz+0.05])\r\n",
    "plt.yticks(np.arange(0, nz+0.05, 1))\r\n",
    "plt.savefig('./distorsion_din.png')"
   ],
   "outputs": [
    {
     "output_type": "display_data",
     "data": {
      "text/plain": [
       "<IPython.core.display.Javascript object>"
      ],
      "application/javascript": "/* Put everything inside the global mpl namespace */\n/* global mpl */\nwindow.mpl = {};\n\nmpl.get_websocket_type = function () {\n    if (typeof WebSocket !== 'undefined') {\n        return WebSocket;\n    } else if (typeof MozWebSocket !== 'undefined') {\n        return MozWebSocket;\n    } else {\n        alert(\n            'Your browser does not have WebSocket support. ' +\n                'Please try Chrome, Safari or Firefox ≥ 6. ' +\n                'Firefox 4 and 5 are also supported but you ' +\n                'have to enable WebSockets in about:config.'\n        );\n    }\n};\n\nmpl.figure = function (figure_id, websocket, ondownload, parent_element) {\n    this.id = figure_id;\n\n    this.ws = websocket;\n\n    this.supports_binary = this.ws.binaryType !== undefined;\n\n    if (!this.supports_binary) {\n        var warnings = document.getElementById('mpl-warnings');\n        if (warnings) {\n            warnings.style.display = 'block';\n            warnings.textContent =\n                'This browser does not support binary websocket messages. ' +\n                'Performance may be slow.';\n        }\n    }\n\n    this.imageObj = new Image();\n\n    this.context = undefined;\n    this.message = undefined;\n    this.canvas = undefined;\n    this.rubberband_canvas = undefined;\n    this.rubberband_context = undefined;\n    this.format_dropdown = undefined;\n\n    this.image_mode = 'full';\n\n    this.root = document.createElement('div');\n    this.root.setAttribute('style', 'display: inline-block');\n    this._root_extra_style(this.root);\n\n    parent_element.appendChild(this.root);\n\n    this._init_header(this);\n    this._init_canvas(this);\n    this._init_toolbar(this);\n\n    var fig = this;\n\n    this.waiting = false;\n\n    this.ws.onopen = function () {\n        fig.send_message('supports_binary', { value: fig.supports_binary });\n        fig.send_message('send_image_mode', {});\n        if (fig.ratio !== 1) {\n            fig.send_message('set_dpi_ratio', { dpi_ratio: fig.ratio });\n        }\n        fig.send_message('refresh', {});\n    };\n\n    this.imageObj.onload = function () {\n        if (fig.image_mode === 'full') {\n            // Full images could contain transparency (where diff images\n            // almost always do), so we need to clear the canvas so that\n            // there is no ghosting.\n            fig.context.clearRect(0, 0, fig.canvas.width, fig.canvas.height);\n        }\n        fig.context.drawImage(fig.imageObj, 0, 0);\n    };\n\n    this.imageObj.onunload = function () {\n        fig.ws.close();\n    };\n\n    this.ws.onmessage = this._make_on_message_function(this);\n\n    this.ondownload = ondownload;\n};\n\nmpl.figure.prototype._init_header = function () {\n    var titlebar = document.createElement('div');\n    titlebar.classList =\n        'ui-dialog-titlebar ui-widget-header ui-corner-all ui-helper-clearfix';\n    var titletext = document.createElement('div');\n    titletext.classList = 'ui-dialog-title';\n    titletext.setAttribute(\n        'style',\n        'width: 100%; text-align: center; padding: 3px;'\n    );\n    titlebar.appendChild(titletext);\n    this.root.appendChild(titlebar);\n    this.header = titletext;\n};\n\nmpl.figure.prototype._canvas_extra_style = function (_canvas_div) {};\n\nmpl.figure.prototype._root_extra_style = function (_canvas_div) {};\n\nmpl.figure.prototype._init_canvas = function () {\n    var fig = this;\n\n    var canvas_div = (this.canvas_div = document.createElement('div'));\n    canvas_div.setAttribute(\n        'style',\n        'border: 1px solid #ddd;' +\n            'box-sizing: content-box;' +\n            'clear: both;' +\n            'min-height: 1px;' +\n            'min-width: 1px;' +\n            'outline: 0;' +\n            'overflow: hidden;' +\n            'position: relative;' +\n            'resize: both;'\n    );\n\n    function on_keyboard_event_closure(name) {\n        return function (event) {\n            return fig.key_event(event, name);\n        };\n    }\n\n    canvas_div.addEventListener(\n        'keydown',\n        on_keyboard_event_closure('key_press')\n    );\n    canvas_div.addEventListener(\n        'keyup',\n        on_keyboard_event_closure('key_release')\n    );\n\n    this._canvas_extra_style(canvas_div);\n    this.root.appendChild(canvas_div);\n\n    var canvas = (this.canvas = document.createElement('canvas'));\n    canvas.classList.add('mpl-canvas');\n    canvas.setAttribute('style', 'box-sizing: content-box;');\n\n    this.context = canvas.getContext('2d');\n\n    var backingStore =\n        this.context.backingStorePixelRatio ||\n        this.context.webkitBackingStorePixelRatio ||\n        this.context.mozBackingStorePixelRatio ||\n        this.context.msBackingStorePixelRatio ||\n        this.context.oBackingStorePixelRatio ||\n        this.context.backingStorePixelRatio ||\n        1;\n\n    this.ratio = (window.devicePixelRatio || 1) / backingStore;\n\n    var rubberband_canvas = (this.rubberband_canvas = document.createElement(\n        'canvas'\n    ));\n    rubberband_canvas.setAttribute(\n        'style',\n        'box-sizing: content-box; position: absolute; left: 0; top: 0; z-index: 1;'\n    );\n\n    // Apply a ponyfill if ResizeObserver is not implemented by browser.\n    if (this.ResizeObserver === undefined) {\n        if (window.ResizeObserver !== undefined) {\n            this.ResizeObserver = window.ResizeObserver;\n        } else {\n            var obs = _JSXTOOLS_RESIZE_OBSERVER({});\n            this.ResizeObserver = obs.ResizeObserver;\n        }\n    }\n\n    this.resizeObserverInstance = new this.ResizeObserver(function (entries) {\n        var nentries = entries.length;\n        for (var i = 0; i < nentries; i++) {\n            var entry = entries[i];\n            var width, height;\n            if (entry.contentBoxSize) {\n                if (entry.contentBoxSize instanceof Array) {\n                    // Chrome 84 implements new version of spec.\n                    width = entry.contentBoxSize[0].inlineSize;\n                    height = entry.contentBoxSize[0].blockSize;\n                } else {\n                    // Firefox implements old version of spec.\n                    width = entry.contentBoxSize.inlineSize;\n                    height = entry.contentBoxSize.blockSize;\n                }\n            } else {\n                // Chrome <84 implements even older version of spec.\n                width = entry.contentRect.width;\n                height = entry.contentRect.height;\n            }\n\n            // Keep the size of the canvas and rubber band canvas in sync with\n            // the canvas container.\n            if (entry.devicePixelContentBoxSize) {\n                // Chrome 84 implements new version of spec.\n                canvas.setAttribute(\n                    'width',\n                    entry.devicePixelContentBoxSize[0].inlineSize\n                );\n                canvas.setAttribute(\n                    'height',\n                    entry.devicePixelContentBoxSize[0].blockSize\n                );\n            } else {\n                canvas.setAttribute('width', width * fig.ratio);\n                canvas.setAttribute('height', height * fig.ratio);\n            }\n            canvas.setAttribute(\n                'style',\n                'width: ' + width + 'px; height: ' + height + 'px;'\n            );\n\n            rubberband_canvas.setAttribute('width', width);\n            rubberband_canvas.setAttribute('height', height);\n\n            // And update the size in Python. We ignore the initial 0/0 size\n            // that occurs as the element is placed into the DOM, which should\n            // otherwise not happen due to the minimum size styling.\n            if (fig.ws.readyState == 1 && width != 0 && height != 0) {\n                fig.request_resize(width, height);\n            }\n        }\n    });\n    this.resizeObserverInstance.observe(canvas_div);\n\n    function on_mouse_event_closure(name) {\n        return function (event) {\n            return fig.mouse_event(event, name);\n        };\n    }\n\n    rubberband_canvas.addEventListener(\n        'mousedown',\n        on_mouse_event_closure('button_press')\n    );\n    rubberband_canvas.addEventListener(\n        'mouseup',\n        on_mouse_event_closure('button_release')\n    );\n    // Throttle sequential mouse events to 1 every 20ms.\n    rubberband_canvas.addEventListener(\n        'mousemove',\n        on_mouse_event_closure('motion_notify')\n    );\n\n    rubberband_canvas.addEventListener(\n        'mouseenter',\n        on_mouse_event_closure('figure_enter')\n    );\n    rubberband_canvas.addEventListener(\n        'mouseleave',\n        on_mouse_event_closure('figure_leave')\n    );\n\n    canvas_div.addEventListener('wheel', function (event) {\n        if (event.deltaY < 0) {\n            event.step = 1;\n        } else {\n            event.step = -1;\n        }\n        on_mouse_event_closure('scroll')(event);\n    });\n\n    canvas_div.appendChild(canvas);\n    canvas_div.appendChild(rubberband_canvas);\n\n    this.rubberband_context = rubberband_canvas.getContext('2d');\n    this.rubberband_context.strokeStyle = '#000000';\n\n    this._resize_canvas = function (width, height, forward) {\n        if (forward) {\n            canvas_div.style.width = width + 'px';\n            canvas_div.style.height = height + 'px';\n        }\n    };\n\n    // Disable right mouse context menu.\n    this.rubberband_canvas.addEventListener('contextmenu', function (_e) {\n        event.preventDefault();\n        return false;\n    });\n\n    function set_focus() {\n        canvas.focus();\n        canvas_div.focus();\n    }\n\n    window.setTimeout(set_focus, 100);\n};\n\nmpl.figure.prototype._init_toolbar = function () {\n    var fig = this;\n\n    var toolbar = document.createElement('div');\n    toolbar.classList = 'mpl-toolbar';\n    this.root.appendChild(toolbar);\n\n    function on_click_closure(name) {\n        return function (_event) {\n            return fig.toolbar_button_onclick(name);\n        };\n    }\n\n    function on_mouseover_closure(tooltip) {\n        return function (event) {\n            if (!event.currentTarget.disabled) {\n                return fig.toolbar_button_onmouseover(tooltip);\n            }\n        };\n    }\n\n    fig.buttons = {};\n    var buttonGroup = document.createElement('div');\n    buttonGroup.classList = 'mpl-button-group';\n    for (var toolbar_ind in mpl.toolbar_items) {\n        var name = mpl.toolbar_items[toolbar_ind][0];\n        var tooltip = mpl.toolbar_items[toolbar_ind][1];\n        var image = mpl.toolbar_items[toolbar_ind][2];\n        var method_name = mpl.toolbar_items[toolbar_ind][3];\n\n        if (!name) {\n            /* Instead of a spacer, we start a new button group. */\n            if (buttonGroup.hasChildNodes()) {\n                toolbar.appendChild(buttonGroup);\n            }\n            buttonGroup = document.createElement('div');\n            buttonGroup.classList = 'mpl-button-group';\n            continue;\n        }\n\n        var button = (fig.buttons[name] = document.createElement('button'));\n        button.classList = 'mpl-widget';\n        button.setAttribute('role', 'button');\n        button.setAttribute('aria-disabled', 'false');\n        button.addEventListener('click', on_click_closure(method_name));\n        button.addEventListener('mouseover', on_mouseover_closure(tooltip));\n\n        var icon_img = document.createElement('img');\n        icon_img.src = '_images/' + image + '.png';\n        icon_img.srcset = '_images/' + image + '_large.png 2x';\n        icon_img.alt = tooltip;\n        button.appendChild(icon_img);\n\n        buttonGroup.appendChild(button);\n    }\n\n    if (buttonGroup.hasChildNodes()) {\n        toolbar.appendChild(buttonGroup);\n    }\n\n    var fmt_picker = document.createElement('select');\n    fmt_picker.classList = 'mpl-widget';\n    toolbar.appendChild(fmt_picker);\n    this.format_dropdown = fmt_picker;\n\n    for (var ind in mpl.extensions) {\n        var fmt = mpl.extensions[ind];\n        var option = document.createElement('option');\n        option.selected = fmt === mpl.default_extension;\n        option.innerHTML = fmt;\n        fmt_picker.appendChild(option);\n    }\n\n    var status_bar = document.createElement('span');\n    status_bar.classList = 'mpl-message';\n    toolbar.appendChild(status_bar);\n    this.message = status_bar;\n};\n\nmpl.figure.prototype.request_resize = function (x_pixels, y_pixels) {\n    // Request matplotlib to resize the figure. Matplotlib will then trigger a resize in the client,\n    // which will in turn request a refresh of the image.\n    this.send_message('resize', { width: x_pixels, height: y_pixels });\n};\n\nmpl.figure.prototype.send_message = function (type, properties) {\n    properties['type'] = type;\n    properties['figure_id'] = this.id;\n    this.ws.send(JSON.stringify(properties));\n};\n\nmpl.figure.prototype.send_draw_message = function () {\n    if (!this.waiting) {\n        this.waiting = true;\n        this.ws.send(JSON.stringify({ type: 'draw', figure_id: this.id }));\n    }\n};\n\nmpl.figure.prototype.handle_save = function (fig, _msg) {\n    var format_dropdown = fig.format_dropdown;\n    var format = format_dropdown.options[format_dropdown.selectedIndex].value;\n    fig.ondownload(fig, format);\n};\n\nmpl.figure.prototype.handle_resize = function (fig, msg) {\n    var size = msg['size'];\n    if (size[0] !== fig.canvas.width || size[1] !== fig.canvas.height) {\n        fig._resize_canvas(size[0], size[1], msg['forward']);\n        fig.send_message('refresh', {});\n    }\n};\n\nmpl.figure.prototype.handle_rubberband = function (fig, msg) {\n    var x0 = msg['x0'] / fig.ratio;\n    var y0 = (fig.canvas.height - msg['y0']) / fig.ratio;\n    var x1 = msg['x1'] / fig.ratio;\n    var y1 = (fig.canvas.height - msg['y1']) / fig.ratio;\n    x0 = Math.floor(x0) + 0.5;\n    y0 = Math.floor(y0) + 0.5;\n    x1 = Math.floor(x1) + 0.5;\n    y1 = Math.floor(y1) + 0.5;\n    var min_x = Math.min(x0, x1);\n    var min_y = Math.min(y0, y1);\n    var width = Math.abs(x1 - x0);\n    var height = Math.abs(y1 - y0);\n\n    fig.rubberband_context.clearRect(\n        0,\n        0,\n        fig.canvas.width / fig.ratio,\n        fig.canvas.height / fig.ratio\n    );\n\n    fig.rubberband_context.strokeRect(min_x, min_y, width, height);\n};\n\nmpl.figure.prototype.handle_figure_label = function (fig, msg) {\n    // Updates the figure title.\n    fig.header.textContent = msg['label'];\n};\n\nmpl.figure.prototype.handle_cursor = function (fig, msg) {\n    var cursor = msg['cursor'];\n    switch (cursor) {\n        case 0:\n            cursor = 'pointer';\n            break;\n        case 1:\n            cursor = 'default';\n            break;\n        case 2:\n            cursor = 'crosshair';\n            break;\n        case 3:\n            cursor = 'move';\n            break;\n    }\n    fig.rubberband_canvas.style.cursor = cursor;\n};\n\nmpl.figure.prototype.handle_message = function (fig, msg) {\n    fig.message.textContent = msg['message'];\n};\n\nmpl.figure.prototype.handle_draw = function (fig, _msg) {\n    // Request the server to send over a new figure.\n    fig.send_draw_message();\n};\n\nmpl.figure.prototype.handle_image_mode = function (fig, msg) {\n    fig.image_mode = msg['mode'];\n};\n\nmpl.figure.prototype.handle_history_buttons = function (fig, msg) {\n    for (var key in msg) {\n        if (!(key in fig.buttons)) {\n            continue;\n        }\n        fig.buttons[key].disabled = !msg[key];\n        fig.buttons[key].setAttribute('aria-disabled', !msg[key]);\n    }\n};\n\nmpl.figure.prototype.handle_navigate_mode = function (fig, msg) {\n    if (msg['mode'] === 'PAN') {\n        fig.buttons['Pan'].classList.add('active');\n        fig.buttons['Zoom'].classList.remove('active');\n    } else if (msg['mode'] === 'ZOOM') {\n        fig.buttons['Pan'].classList.remove('active');\n        fig.buttons['Zoom'].classList.add('active');\n    } else {\n        fig.buttons['Pan'].classList.remove('active');\n        fig.buttons['Zoom'].classList.remove('active');\n    }\n};\n\nmpl.figure.prototype.updated_canvas_event = function () {\n    // Called whenever the canvas gets updated.\n    this.send_message('ack', {});\n};\n\n// A function to construct a web socket function for onmessage handling.\n// Called in the figure constructor.\nmpl.figure.prototype._make_on_message_function = function (fig) {\n    return function socket_on_message(evt) {\n        if (evt.data instanceof Blob) {\n            /* FIXME: We get \"Resource interpreted as Image but\n             * transferred with MIME type text/plain:\" errors on\n             * Chrome.  But how to set the MIME type?  It doesn't seem\n             * to be part of the websocket stream */\n            evt.data.type = 'image/png';\n\n            /* Free the memory for the previous frames */\n            if (fig.imageObj.src) {\n                (window.URL || window.webkitURL).revokeObjectURL(\n                    fig.imageObj.src\n                );\n            }\n\n            fig.imageObj.src = (window.URL || window.webkitURL).createObjectURL(\n                evt.data\n            );\n            fig.updated_canvas_event();\n            fig.waiting = false;\n            return;\n        } else if (\n            typeof evt.data === 'string' &&\n            evt.data.slice(0, 21) === 'data:image/png;base64'\n        ) {\n            fig.imageObj.src = evt.data;\n            fig.updated_canvas_event();\n            fig.waiting = false;\n            return;\n        }\n\n        var msg = JSON.parse(evt.data);\n        var msg_type = msg['type'];\n\n        // Call the  \"handle_{type}\" callback, which takes\n        // the figure and JSON message as its only arguments.\n        try {\n            var callback = fig['handle_' + msg_type];\n        } catch (e) {\n            console.log(\n                \"No handler for the '\" + msg_type + \"' message type: \",\n                msg\n            );\n            return;\n        }\n\n        if (callback) {\n            try {\n                // console.log(\"Handling '\" + msg_type + \"' message: \", msg);\n                callback(fig, msg);\n            } catch (e) {\n                console.log(\n                    \"Exception inside the 'handler_\" + msg_type + \"' callback:\",\n                    e,\n                    e.stack,\n                    msg\n                );\n            }\n        }\n    };\n};\n\n// from http://stackoverflow.com/questions/1114465/getting-mouse-location-in-canvas\nmpl.findpos = function (e) {\n    //this section is from http://www.quirksmode.org/js/events_properties.html\n    var targ;\n    if (!e) {\n        e = window.event;\n    }\n    if (e.target) {\n        targ = e.target;\n    } else if (e.srcElement) {\n        targ = e.srcElement;\n    }\n    if (targ.nodeType === 3) {\n        // defeat Safari bug\n        targ = targ.parentNode;\n    }\n\n    // pageX,Y are the mouse positions relative to the document\n    var boundingRect = targ.getBoundingClientRect();\n    var x = e.pageX - (boundingRect.left + document.body.scrollLeft);\n    var y = e.pageY - (boundingRect.top + document.body.scrollTop);\n\n    return { x: x, y: y };\n};\n\n/*\n * return a copy of an object with only non-object keys\n * we need this to avoid circular references\n * http://stackoverflow.com/a/24161582/3208463\n */\nfunction simpleKeys(original) {\n    return Object.keys(original).reduce(function (obj, key) {\n        if (typeof original[key] !== 'object') {\n            obj[key] = original[key];\n        }\n        return obj;\n    }, {});\n}\n\nmpl.figure.prototype.mouse_event = function (event, name) {\n    var canvas_pos = mpl.findpos(event);\n\n    if (name === 'button_press') {\n        this.canvas.focus();\n        this.canvas_div.focus();\n    }\n\n    var x = canvas_pos.x * this.ratio;\n    var y = canvas_pos.y * this.ratio;\n\n    this.send_message(name, {\n        x: x,\n        y: y,\n        button: event.button,\n        step: event.step,\n        guiEvent: simpleKeys(event),\n    });\n\n    /* This prevents the web browser from automatically changing to\n     * the text insertion cursor when the button is pressed.  We want\n     * to control all of the cursor setting manually through the\n     * 'cursor' event from matplotlib */\n    event.preventDefault();\n    return false;\n};\n\nmpl.figure.prototype._key_event_extra = function (_event, _name) {\n    // Handle any extra behaviour associated with a key event\n};\n\nmpl.figure.prototype.key_event = function (event, name) {\n    // Prevent repeat events\n    if (name === 'key_press') {\n        if (event.which === this._key) {\n            return;\n        } else {\n            this._key = event.which;\n        }\n    }\n    if (name === 'key_release') {\n        this._key = null;\n    }\n\n    var value = '';\n    if (event.ctrlKey && event.which !== 17) {\n        value += 'ctrl+';\n    }\n    if (event.altKey && event.which !== 18) {\n        value += 'alt+';\n    }\n    if (event.shiftKey && event.which !== 16) {\n        value += 'shift+';\n    }\n\n    value += 'k';\n    value += event.which.toString();\n\n    this._key_event_extra(event, name);\n\n    this.send_message(name, { key: value, guiEvent: simpleKeys(event) });\n    return false;\n};\n\nmpl.figure.prototype.toolbar_button_onclick = function (name) {\n    if (name === 'download') {\n        this.handle_save(this, null);\n    } else {\n        this.send_message('toolbar_button', { name: name });\n    }\n};\n\nmpl.figure.prototype.toolbar_button_onmouseover = function (tooltip) {\n    this.message.textContent = tooltip;\n};\n\n///////////////// REMAINING CONTENT GENERATED BY embed_js.py /////////////////\n// prettier-ignore\nvar _JSXTOOLS_RESIZE_OBSERVER=function(A){var t,i=new WeakMap,n=new WeakMap,a=new WeakMap,r=new WeakMap,o=new Set;function s(e){if(!(this instanceof s))throw new TypeError(\"Constructor requires 'new' operator\");i.set(this,e)}function h(){throw new TypeError(\"Function is not a constructor\")}function c(e,t,i,n){e=0 in arguments?Number(arguments[0]):0,t=1 in arguments?Number(arguments[1]):0,i=2 in arguments?Number(arguments[2]):0,n=3 in arguments?Number(arguments[3]):0,this.right=(this.x=this.left=e)+(this.width=i),this.bottom=(this.y=this.top=t)+(this.height=n),Object.freeze(this)}function d(){t=requestAnimationFrame(d);var s=new WeakMap,p=new Set;o.forEach((function(t){r.get(t).forEach((function(i){var r=t instanceof window.SVGElement,o=a.get(t),d=r?0:parseFloat(o.paddingTop),f=r?0:parseFloat(o.paddingRight),l=r?0:parseFloat(o.paddingBottom),u=r?0:parseFloat(o.paddingLeft),g=r?0:parseFloat(o.borderTopWidth),m=r?0:parseFloat(o.borderRightWidth),w=r?0:parseFloat(o.borderBottomWidth),b=u+f,F=d+l,v=(r?0:parseFloat(o.borderLeftWidth))+m,W=g+w,y=r?0:t.offsetHeight-W-t.clientHeight,E=r?0:t.offsetWidth-v-t.clientWidth,R=b+v,z=F+W,M=r?t.width:parseFloat(o.width)-R-E,O=r?t.height:parseFloat(o.height)-z-y;if(n.has(t)){var k=n.get(t);if(k[0]===M&&k[1]===O)return}n.set(t,[M,O]);var S=Object.create(h.prototype);S.target=t,S.contentRect=new c(u,d,M,O),s.has(i)||(s.set(i,[]),p.add(i)),s.get(i).push(S)}))})),p.forEach((function(e){i.get(e).call(e,s.get(e),e)}))}return s.prototype.observe=function(i){if(i instanceof window.Element){r.has(i)||(r.set(i,new Set),o.add(i),a.set(i,window.getComputedStyle(i)));var n=r.get(i);n.has(this)||n.add(this),cancelAnimationFrame(t),t=requestAnimationFrame(d)}},s.prototype.unobserve=function(i){if(i instanceof window.Element&&r.has(i)){var n=r.get(i);n.has(this)&&(n.delete(this),n.size||(r.delete(i),o.delete(i))),n.size||r.delete(i),o.size||cancelAnimationFrame(t)}},A.DOMRectReadOnly=c,A.ResizeObserver=s,A.ResizeObserverEntry=h,A}; // eslint-disable-line\nmpl.toolbar_items = [[\"Home\", \"Reset original view\", \"fa fa-home icon-home\", \"home\"], [\"Back\", \"Back to previous view\", \"fa fa-arrow-left icon-arrow-left\", \"back\"], [\"Forward\", \"Forward to next view\", \"fa fa-arrow-right icon-arrow-right\", \"forward\"], [\"\", \"\", \"\", \"\"], [\"Pan\", \"Left button pans, Right button zooms\\nx/y fixes axis, CTRL fixes aspect\", \"fa fa-arrows icon-move\", \"pan\"], [\"Zoom\", \"Zoom to rectangle\\nx/y fixes axis, CTRL fixes aspect\", \"fa fa-square-o icon-check-empty\", \"zoom\"], [\"\", \"\", \"\", \"\"], [\"Download\", \"Download plot\", \"fa fa-floppy-o icon-save\", \"download\"]];\n\nmpl.extensions = [\"eps\", \"jpeg\", \"pdf\", \"png\", \"ps\", \"raw\", \"svg\", \"tif\"];\n\nmpl.default_extension = \"png\";/* global mpl */\n\nvar comm_websocket_adapter = function (comm) {\n    // Create a \"websocket\"-like object which calls the given IPython comm\n    // object with the appropriate methods. Currently this is a non binary\n    // socket, so there is still some room for performance tuning.\n    var ws = {};\n\n    ws.close = function () {\n        comm.close();\n    };\n    ws.send = function (m) {\n        //console.log('sending', m);\n        comm.send(m);\n    };\n    // Register the callback with on_msg.\n    comm.on_msg(function (msg) {\n        //console.log('receiving', msg['content']['data'], msg);\n        // Pass the mpl event to the overridden (by mpl) onmessage function.\n        ws.onmessage(msg['content']['data']);\n    });\n    return ws;\n};\n\nmpl.mpl_figure_comm = function (comm, msg) {\n    // This is the function which gets called when the mpl process\n    // starts-up an IPython Comm through the \"matplotlib\" channel.\n\n    var id = msg.content.data.id;\n    // Get hold of the div created by the display call when the Comm\n    // socket was opened in Python.\n    var element = document.getElementById(id);\n    var ws_proxy = comm_websocket_adapter(comm);\n\n    function ondownload(figure, _format) {\n        window.open(figure.canvas.toDataURL());\n    }\n\n    var fig = new mpl.figure(id, ws_proxy, ondownload, element);\n\n    // Call onopen now - mpl needs it, as it is assuming we've passed it a real\n    // web socket which is closed, not our websocket->open comm proxy.\n    ws_proxy.onopen();\n\n    fig.parent_element = element;\n    fig.cell_info = mpl.find_output_cell(\"<div id='\" + id + \"'></div>\");\n    if (!fig.cell_info) {\n        console.error('Failed to find cell for figure', id, fig);\n        return;\n    }\n    fig.cell_info[0].output_area.element.on(\n        'cleared',\n        { fig: fig },\n        fig._remove_fig_handler\n    );\n};\n\nmpl.figure.prototype.handle_close = function (fig, msg) {\n    var width = fig.canvas.width / fig.ratio;\n    fig.cell_info[0].output_area.element.off(\n        'cleared',\n        fig._remove_fig_handler\n    );\n    fig.resizeObserverInstance.unobserve(fig.canvas_div);\n\n    // Update the output cell to use the data from the current canvas.\n    fig.push_to_output();\n    var dataURL = fig.canvas.toDataURL();\n    // Re-enable the keyboard manager in IPython - without this line, in FF,\n    // the notebook keyboard shortcuts fail.\n    IPython.keyboard_manager.enable();\n    fig.parent_element.innerHTML =\n        '<img src=\"' + dataURL + '\" width=\"' + width + '\">';\n    fig.close_ws(fig, msg);\n};\n\nmpl.figure.prototype.close_ws = function (fig, msg) {\n    fig.send_message('closing', msg);\n    // fig.ws.close()\n};\n\nmpl.figure.prototype.push_to_output = function (_remove_interactive) {\n    // Turn the data on the canvas into data in the output cell.\n    var width = this.canvas.width / this.ratio;\n    var dataURL = this.canvas.toDataURL();\n    this.cell_info[1]['text/html'] =\n        '<img src=\"' + dataURL + '\" width=\"' + width + '\">';\n};\n\nmpl.figure.prototype.updated_canvas_event = function () {\n    // Tell IPython that the notebook contents must change.\n    IPython.notebook.set_dirty(true);\n    this.send_message('ack', {});\n    var fig = this;\n    // Wait a second, then push the new image to the DOM so\n    // that it is saved nicely (might be nice to debounce this).\n    setTimeout(function () {\n        fig.push_to_output();\n    }, 1000);\n};\n\nmpl.figure.prototype._init_toolbar = function () {\n    var fig = this;\n\n    var toolbar = document.createElement('div');\n    toolbar.classList = 'btn-toolbar';\n    this.root.appendChild(toolbar);\n\n    function on_click_closure(name) {\n        return function (_event) {\n            return fig.toolbar_button_onclick(name);\n        };\n    }\n\n    function on_mouseover_closure(tooltip) {\n        return function (event) {\n            if (!event.currentTarget.disabled) {\n                return fig.toolbar_button_onmouseover(tooltip);\n            }\n        };\n    }\n\n    fig.buttons = {};\n    var buttonGroup = document.createElement('div');\n    buttonGroup.classList = 'btn-group';\n    var button;\n    for (var toolbar_ind in mpl.toolbar_items) {\n        var name = mpl.toolbar_items[toolbar_ind][0];\n        var tooltip = mpl.toolbar_items[toolbar_ind][1];\n        var image = mpl.toolbar_items[toolbar_ind][2];\n        var method_name = mpl.toolbar_items[toolbar_ind][3];\n\n        if (!name) {\n            /* Instead of a spacer, we start a new button group. */\n            if (buttonGroup.hasChildNodes()) {\n                toolbar.appendChild(buttonGroup);\n            }\n            buttonGroup = document.createElement('div');\n            buttonGroup.classList = 'btn-group';\n            continue;\n        }\n\n        button = fig.buttons[name] = document.createElement('button');\n        button.classList = 'btn btn-default';\n        button.href = '#';\n        button.title = name;\n        button.innerHTML = '<i class=\"fa ' + image + ' fa-lg\"></i>';\n        button.addEventListener('click', on_click_closure(method_name));\n        button.addEventListener('mouseover', on_mouseover_closure(tooltip));\n        buttonGroup.appendChild(button);\n    }\n\n    if (buttonGroup.hasChildNodes()) {\n        toolbar.appendChild(buttonGroup);\n    }\n\n    // Add the status bar.\n    var status_bar = document.createElement('span');\n    status_bar.classList = 'mpl-message pull-right';\n    toolbar.appendChild(status_bar);\n    this.message = status_bar;\n\n    // Add the close button to the window.\n    var buttongrp = document.createElement('div');\n    buttongrp.classList = 'btn-group inline pull-right';\n    button = document.createElement('button');\n    button.classList = 'btn btn-mini btn-primary';\n    button.href = '#';\n    button.title = 'Stop Interaction';\n    button.innerHTML = '<i class=\"fa fa-power-off icon-remove icon-large\"></i>';\n    button.addEventListener('click', function (_evt) {\n        fig.handle_close(fig, {});\n    });\n    button.addEventListener(\n        'mouseover',\n        on_mouseover_closure('Stop Interaction')\n    );\n    buttongrp.appendChild(button);\n    var titlebar = this.root.querySelector('.ui-dialog-titlebar');\n    titlebar.insertBefore(buttongrp, titlebar.firstChild);\n};\n\nmpl.figure.prototype._remove_fig_handler = function (event) {\n    var fig = event.data.fig;\n    if (event.target !== this) {\n        // Ignore bubbled events from children.\n        return;\n    }\n    fig.close_ws(fig, {});\n};\n\nmpl.figure.prototype._root_extra_style = function (el) {\n    el.style.boxSizing = 'content-box'; // override notebook setting of border-box.\n};\n\nmpl.figure.prototype._canvas_extra_style = function (el) {\n    // this is important to make the div 'focusable\n    el.setAttribute('tabindex', 0);\n    // reach out to IPython and tell the keyboard manager to turn it's self\n    // off when our div gets focus\n\n    // location in version 3\n    if (IPython.notebook.keyboard_manager) {\n        IPython.notebook.keyboard_manager.register_events(el);\n    } else {\n        // location in version 2\n        IPython.keyboard_manager.register_events(el);\n    }\n};\n\nmpl.figure.prototype._key_event_extra = function (event, _name) {\n    var manager = IPython.notebook.keyboard_manager;\n    if (!manager) {\n        manager = IPython.keyboard_manager;\n    }\n\n    // Check for shift+enter\n    if (event.shiftKey && event.which === 13) {\n        this.canvas_div.blur();\n        // select the cell after this one\n        var index = IPython.notebook.find_cell_index(this.cell_info[0]);\n        IPython.notebook.select(index + 1);\n    }\n};\n\nmpl.figure.prototype.handle_save = function (fig, _msg) {\n    fig.ondownload(fig, null);\n};\n\nmpl.find_output_cell = function (html_output) {\n    // Return the cell and output element which can be found *uniquely* in the notebook.\n    // Note - this is a bit hacky, but it is done because the \"notebook_saving.Notebook\"\n    // IPython event is triggered only after the cells have been serialised, which for\n    // our purposes (turning an active figure into a static one), is too late.\n    var cells = IPython.notebook.get_cells();\n    var ncells = cells.length;\n    for (var i = 0; i < ncells; i++) {\n        var cell = cells[i];\n        if (cell.cell_type === 'code') {\n            for (var j = 0; j < cell.output_area.outputs.length; j++) {\n                var data = cell.output_area.outputs[j];\n                if (data.data) {\n                    // IPython >= 3 moved mimebundle to data attribute of output\n                    data = data.data;\n                }\n                if (data['text/html'] === html_output) {\n                    return [cell, data, j];\n                }\n            }\n        }\n    }\n};\n\n// Register the function which deals with the matplotlib target/channel.\n// The kernel may be null if the page has been refreshed.\nif (IPython.notebook.kernel !== null) {\n    IPython.notebook.kernel.comm_manager.register_target(\n        'matplotlib',\n        mpl.mpl_figure_comm\n    );\n}\n"
     },
     "metadata": {}
    },
    {
     "output_type": "display_data",
     "data": {
      "text/plain": [
       "<IPython.core.display.HTML object>"
      ],
      "text/html": [
       "<div id='ca1c5fc6-79d3-4ecd-bef2-d90d8abf3b15'></div>"
      ]
     },
     "metadata": {}
    }
   ],
   "metadata": {}
  }
 ],
 "metadata": {
  "colab": {
   "authorship_tag": "ABX9TyPHw3ourk41CxLFUTpX6LZz",
   "name": "Modelamiento en OpenSeesPy.ipynb",
   "provenance": []
  },
  "kernelspec": {
   "name": "python3",
   "display_name": "Python 3.8.8 64-bit ('retad': virtualenv)"
  },
  "language_info": {
   "codemirror_mode": {
    "name": "ipython",
    "version": 3
   },
   "file_extension": ".py",
   "mimetype": "text/x-python",
   "name": "python",
   "nbconvert_exporter": "python",
   "pygments_lexer": "ipython3",
   "version": "3.8.8"
  },
  "interpreter": {
   "hash": "96534924756210e9c23eb880be9640a75b76768a62224195b2434a9f73f7304d"
  }
 },
 "nbformat": 4,
 "nbformat_minor": 1
}